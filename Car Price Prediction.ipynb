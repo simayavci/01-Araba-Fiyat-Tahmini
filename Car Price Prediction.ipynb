{
 "cells": [
  {
   "cell_type": "markdown",
   "id": "controlled-slovak",
   "metadata": {},
   "source": [
    "# Araba Fiyatlarının Tahmin Edilmesi"
   ]
  },
  {
   "cell_type": "markdown",
   "id": "elementary-closer",
   "metadata": {},
   "source": [
    "Kullanılacak kütüphanelerin import edilmesi"
   ]
  },
  {
   "cell_type": "code",
   "execution_count": 1,
   "id": "legislative-provincial",
   "metadata": {},
   "outputs": [],
   "source": [
    "import pandas as pd\n",
    "import numpy as np\n",
    "import matplotlib.pyplot as plt\n",
    "import seaborn as sbn"
   ]
  },
  {
   "cell_type": "markdown",
   "id": "saved-sharing",
   "metadata": {},
   "source": [
    "Excel dosyasının okutulması"
   ]
  },
  {
   "cell_type": "code",
   "execution_count": 3,
   "id": "biblical-sweet",
   "metadata": {},
   "outputs": [],
   "source": [
    "dataFrame=pd.read_excel(\"merc.xlsx\")"
   ]
  },
  {
   "cell_type": "markdown",
   "id": "small-violation",
   "metadata": {},
   "source": [
    "Datasetin yapısının incelenmesi(İlk 5 eleman ile)"
   ]
  },
  {
   "cell_type": "code",
   "execution_count": 4,
   "id": "polished-toddler",
   "metadata": {},
   "outputs": [
    {
     "data": {
      "text/html": [
       "<div>\n",
       "<style scoped>\n",
       "    .dataframe tbody tr th:only-of-type {\n",
       "        vertical-align: middle;\n",
       "    }\n",
       "\n",
       "    .dataframe tbody tr th {\n",
       "        vertical-align: top;\n",
       "    }\n",
       "\n",
       "    .dataframe thead th {\n",
       "        text-align: right;\n",
       "    }\n",
       "</style>\n",
       "<table border=\"1\" class=\"dataframe\">\n",
       "  <thead>\n",
       "    <tr style=\"text-align: right;\">\n",
       "      <th></th>\n",
       "      <th>year</th>\n",
       "      <th>price</th>\n",
       "      <th>transmission</th>\n",
       "      <th>mileage</th>\n",
       "      <th>tax</th>\n",
       "      <th>mpg</th>\n",
       "      <th>engineSize</th>\n",
       "    </tr>\n",
       "  </thead>\n",
       "  <tbody>\n",
       "    <tr>\n",
       "      <th>0</th>\n",
       "      <td>2005</td>\n",
       "      <td>5200</td>\n",
       "      <td>Automatic</td>\n",
       "      <td>63000</td>\n",
       "      <td>325</td>\n",
       "      <td>32.1</td>\n",
       "      <td>1.8</td>\n",
       "    </tr>\n",
       "    <tr>\n",
       "      <th>1</th>\n",
       "      <td>2017</td>\n",
       "      <td>34948</td>\n",
       "      <td>Automatic</td>\n",
       "      <td>27000</td>\n",
       "      <td>20</td>\n",
       "      <td>61.4</td>\n",
       "      <td>2.1</td>\n",
       "    </tr>\n",
       "    <tr>\n",
       "      <th>2</th>\n",
       "      <td>2016</td>\n",
       "      <td>49948</td>\n",
       "      <td>Automatic</td>\n",
       "      <td>6200</td>\n",
       "      <td>555</td>\n",
       "      <td>28.0</td>\n",
       "      <td>5.5</td>\n",
       "    </tr>\n",
       "    <tr>\n",
       "      <th>3</th>\n",
       "      <td>2016</td>\n",
       "      <td>61948</td>\n",
       "      <td>Automatic</td>\n",
       "      <td>16000</td>\n",
       "      <td>325</td>\n",
       "      <td>30.4</td>\n",
       "      <td>4.0</td>\n",
       "    </tr>\n",
       "    <tr>\n",
       "      <th>4</th>\n",
       "      <td>2016</td>\n",
       "      <td>73948</td>\n",
       "      <td>Automatic</td>\n",
       "      <td>4000</td>\n",
       "      <td>325</td>\n",
       "      <td>30.1</td>\n",
       "      <td>4.0</td>\n",
       "    </tr>\n",
       "  </tbody>\n",
       "</table>\n",
       "</div>"
      ],
      "text/plain": [
       "   year  price transmission  mileage  tax   mpg  engineSize\n",
       "0  2005   5200    Automatic    63000  325  32.1         1.8\n",
       "1  2017  34948    Automatic    27000   20  61.4         2.1\n",
       "2  2016  49948    Automatic     6200  555  28.0         5.5\n",
       "3  2016  61948    Automatic    16000  325  30.4         4.0\n",
       "4  2016  73948    Automatic     4000  325  30.1         4.0"
      ]
     },
     "execution_count": 4,
     "metadata": {},
     "output_type": "execute_result"
    }
   ],
   "source": [
    "dataFrame.head()"
   ]
  },
  {
   "cell_type": "markdown",
   "id": "clear-greenhouse",
   "metadata": {},
   "source": [
    "Datasetin istatiksel analizinin yapılması"
   ]
  },
  {
   "cell_type": "code",
   "execution_count": 5,
   "id": "agreed-aviation",
   "metadata": {},
   "outputs": [
    {
     "data": {
      "text/html": [
       "<div>\n",
       "<style scoped>\n",
       "    .dataframe tbody tr th:only-of-type {\n",
       "        vertical-align: middle;\n",
       "    }\n",
       "\n",
       "    .dataframe tbody tr th {\n",
       "        vertical-align: top;\n",
       "    }\n",
       "\n",
       "    .dataframe thead th {\n",
       "        text-align: right;\n",
       "    }\n",
       "</style>\n",
       "<table border=\"1\" class=\"dataframe\">\n",
       "  <thead>\n",
       "    <tr style=\"text-align: right;\">\n",
       "      <th></th>\n",
       "      <th>year</th>\n",
       "      <th>price</th>\n",
       "      <th>mileage</th>\n",
       "      <th>tax</th>\n",
       "      <th>mpg</th>\n",
       "      <th>engineSize</th>\n",
       "    </tr>\n",
       "  </thead>\n",
       "  <tbody>\n",
       "    <tr>\n",
       "      <th>count</th>\n",
       "      <td>13119.000000</td>\n",
       "      <td>13119.000000</td>\n",
       "      <td>13119.000000</td>\n",
       "      <td>13119.000000</td>\n",
       "      <td>13119.000000</td>\n",
       "      <td>13119.000000</td>\n",
       "    </tr>\n",
       "    <tr>\n",
       "      <th>mean</th>\n",
       "      <td>2017.296288</td>\n",
       "      <td>24698.596920</td>\n",
       "      <td>21949.559037</td>\n",
       "      <td>129.972178</td>\n",
       "      <td>55.155843</td>\n",
       "      <td>2.071530</td>\n",
       "    </tr>\n",
       "    <tr>\n",
       "      <th>std</th>\n",
       "      <td>2.224709</td>\n",
       "      <td>11842.675542</td>\n",
       "      <td>21176.512267</td>\n",
       "      <td>65.260286</td>\n",
       "      <td>15.220082</td>\n",
       "      <td>0.572426</td>\n",
       "    </tr>\n",
       "    <tr>\n",
       "      <th>min</th>\n",
       "      <td>1970.000000</td>\n",
       "      <td>650.000000</td>\n",
       "      <td>1.000000</td>\n",
       "      <td>0.000000</td>\n",
       "      <td>1.100000</td>\n",
       "      <td>0.000000</td>\n",
       "    </tr>\n",
       "    <tr>\n",
       "      <th>25%</th>\n",
       "      <td>2016.000000</td>\n",
       "      <td>17450.000000</td>\n",
       "      <td>6097.500000</td>\n",
       "      <td>125.000000</td>\n",
       "      <td>45.600000</td>\n",
       "      <td>1.800000</td>\n",
       "    </tr>\n",
       "    <tr>\n",
       "      <th>50%</th>\n",
       "      <td>2018.000000</td>\n",
       "      <td>22480.000000</td>\n",
       "      <td>15189.000000</td>\n",
       "      <td>145.000000</td>\n",
       "      <td>56.500000</td>\n",
       "      <td>2.000000</td>\n",
       "    </tr>\n",
       "    <tr>\n",
       "      <th>75%</th>\n",
       "      <td>2019.000000</td>\n",
       "      <td>28980.000000</td>\n",
       "      <td>31779.500000</td>\n",
       "      <td>145.000000</td>\n",
       "      <td>64.200000</td>\n",
       "      <td>2.100000</td>\n",
       "    </tr>\n",
       "    <tr>\n",
       "      <th>max</th>\n",
       "      <td>2020.000000</td>\n",
       "      <td>159999.000000</td>\n",
       "      <td>259000.000000</td>\n",
       "      <td>580.000000</td>\n",
       "      <td>217.300000</td>\n",
       "      <td>6.200000</td>\n",
       "    </tr>\n",
       "  </tbody>\n",
       "</table>\n",
       "</div>"
      ],
      "text/plain": [
       "               year          price        mileage           tax           mpg  \\\n",
       "count  13119.000000   13119.000000   13119.000000  13119.000000  13119.000000   \n",
       "mean    2017.296288   24698.596920   21949.559037    129.972178     55.155843   \n",
       "std        2.224709   11842.675542   21176.512267     65.260286     15.220082   \n",
       "min     1970.000000     650.000000       1.000000      0.000000      1.100000   \n",
       "25%     2016.000000   17450.000000    6097.500000    125.000000     45.600000   \n",
       "50%     2018.000000   22480.000000   15189.000000    145.000000     56.500000   \n",
       "75%     2019.000000   28980.000000   31779.500000    145.000000     64.200000   \n",
       "max     2020.000000  159999.000000  259000.000000    580.000000    217.300000   \n",
       "\n",
       "         engineSize  \n",
       "count  13119.000000  \n",
       "mean       2.071530  \n",
       "std        0.572426  \n",
       "min        0.000000  \n",
       "25%        1.800000  \n",
       "50%        2.000000  \n",
       "75%        2.100000  \n",
       "max        6.200000  "
      ]
     },
     "execution_count": 5,
     "metadata": {},
     "output_type": "execute_result"
    }
   ],
   "source": [
    "dataFrame.describe()"
   ]
  },
  {
   "cell_type": "markdown",
   "id": "narrative-execution",
   "metadata": {},
   "source": [
    "Datasette boş olan verilerin incelenmesi"
   ]
  },
  {
   "cell_type": "code",
   "execution_count": 6,
   "id": "cosmetic-vegetarian",
   "metadata": {},
   "outputs": [
    {
     "data": {
      "text/plain": [
       "year            0\n",
       "price           0\n",
       "transmission    0\n",
       "mileage         0\n",
       "tax             0\n",
       "mpg             0\n",
       "engineSize      0\n",
       "dtype: int64"
      ]
     },
     "execution_count": 6,
     "metadata": {},
     "output_type": "execute_result"
    }
   ],
   "source": [
    "dataFrame.isnull().sum()"
   ]
  },
  {
   "cell_type": "markdown",
   "id": "welcome-career",
   "metadata": {},
   "source": [
    "Fiyatların hangi dağılıma benzediği ve outlier değerlerin incelenmesi(grafik yüksekliğinin ve görünümünün ayarlanması)"
   ]
  },
  {
   "cell_type": "code",
   "execution_count": 29,
   "id": "copyrighted-monkey",
   "metadata": {},
   "outputs": [
    {
     "data": {
      "text/plain": [
       "<seaborn.axisgrid.FacetGrid at 0x1c530806790>"
      ]
     },
     "execution_count": 29,
     "metadata": {},
     "output_type": "execute_result"
    },
    {
     "data": {
      "image/png": "[encoded data removed]",
      "text/plain": [
       "<Figure size 576x576 with 1 Axes>"
      ]
     },
     "metadata": {
      "needs_background": "light"
     },
     "output_type": "display_data"
    }
   ],
   "source": [
    "sbn.displot(dataFrame[\"price\"], height=8, aspect=1)"
   ]
  },
  {
   "cell_type": "markdown",
   "id": "collected-spine",
   "metadata": {},
   "source": [
    "Year değişkenine bakarak yıllara göre fiyat analizi yapılması(X ekseninde bulunan verilerin 45 derece döndürülmesi)"
   ]
  },
  {
   "cell_type": "code",
   "execution_count": 30,
   "id": "rocky-silicon",
   "metadata": {},
   "outputs": [
    {
     "name": "stderr",
     "output_type": "stream",
     "text": [
      "C:\\Users\\simay\\anaconda3\\lib\\site-packages\\seaborn\\_decorators.py:36: FutureWarning: Pass the following variable as a keyword arg: x. From version 0.12, the only valid positional argument will be `data`, and passing other arguments without an explicit keyword will result in an error or misinterpretation.\n",
      "  warnings.warn(\n"
     ]
    },
    {
     "data": {
      "text/plain": [
       "(array([ 0,  1,  2,  3,  4,  5,  6,  7,  8,  9, 10, 11, 12, 13, 14, 15, 16,\n",
       "        17, 18, 19, 20, 21, 22, 23, 24]),\n",
       " [Text(0, 0, '1970'),\n",
       "  Text(1, 0, '1997'),\n",
       "  Text(2, 0, '1998'),\n",
       "  Text(3, 0, '1999'),\n",
       "  Text(4, 0, '2000'),\n",
       "  Text(5, 0, '2001'),\n",
       "  Text(6, 0, '2002'),\n",
       "  Text(7, 0, '2003'),\n",
       "  Text(8, 0, '2004'),\n",
       "  Text(9, 0, '2005'),\n",
       "  Text(10, 0, '2006'),\n",
       "  Text(11, 0, '2007'),\n",
       "  Text(12, 0, '2008'),\n",
       "  Text(13, 0, '2009'),\n",
       "  Text(14, 0, '2010'),\n",
       "  Text(15, 0, '2011'),\n",
       "  Text(16, 0, '2012'),\n",
       "  Text(17, 0, '2013'),\n",
       "  Text(18, 0, '2014'),\n",
       "  Text(19, 0, '2015'),\n",
       "  Text(20, 0, '2016'),\n",
       "  Text(21, 0, '2017'),\n",
       "  Text(22, 0, '2018'),\n",
       "  Text(23, 0, '2019'),\n",
       "  Text(24, 0, '2020')])"
      ]
     },
     "execution_count": 30,
     "metadata": {},
     "output_type": "execute_result"
    },
    {
     "data": {
      "image/png": "[encoded data removed]",
      "text/plain": [
       "<Figure size 432x288 with 1 Axes>"
      ]
     },
     "metadata": {
      "needs_background": "light"
     },
     "output_type": "display_data"
    }
   ],
   "source": [
    "sbn.countplot(dataFrame[\"year\"])\n",
    "plt.xticks(rotation=-45)"
   ]
  },
  {
   "cell_type": "markdown",
   "id": "controlling-indian",
   "metadata": {},
   "source": [
    "Değişkenler arasındaki ilişkilere bakılması"
   ]
  },
  {
   "cell_type": "code",
   "execution_count": 31,
   "id": "frozen-pierre",
   "metadata": {},
   "outputs": [
    {
     "data": {
      "text/html": [
       "<div>\n",
       "<style scoped>\n",
       "    .dataframe tbody tr th:only-of-type {\n",
       "        vertical-align: middle;\n",
       "    }\n",
       "\n",
       "    .dataframe tbody tr th {\n",
       "        vertical-align: top;\n",
       "    }\n",
       "\n",
       "    .dataframe thead th {\n",
       "        text-align: right;\n",
       "    }\n",
       "</style>\n",
       "<table border=\"1\" class=\"dataframe\">\n",
       "  <thead>\n",
       "    <tr style=\"text-align: right;\">\n",
       "      <th></th>\n",
       "      <th>year</th>\n",
       "      <th>price</th>\n",
       "      <th>mileage</th>\n",
       "      <th>tax</th>\n",
       "      <th>mpg</th>\n",
       "      <th>engineSize</th>\n",
       "    </tr>\n",
       "  </thead>\n",
       "  <tbody>\n",
       "    <tr>\n",
       "      <th>year</th>\n",
       "      <td>1.000000</td>\n",
       "      <td>0.520712</td>\n",
       "      <td>-0.738027</td>\n",
       "      <td>0.012480</td>\n",
       "      <td>-0.094626</td>\n",
       "      <td>-0.142147</td>\n",
       "    </tr>\n",
       "    <tr>\n",
       "      <th>price</th>\n",
       "      <td>0.520712</td>\n",
       "      <td>1.000000</td>\n",
       "      <td>-0.537214</td>\n",
       "      <td>0.268717</td>\n",
       "      <td>-0.438445</td>\n",
       "      <td>0.516126</td>\n",
       "    </tr>\n",
       "    <tr>\n",
       "      <th>mileage</th>\n",
       "      <td>-0.738027</td>\n",
       "      <td>-0.537214</td>\n",
       "      <td>1.000000</td>\n",
       "      <td>-0.160223</td>\n",
       "      <td>0.202850</td>\n",
       "      <td>0.063652</td>\n",
       "    </tr>\n",
       "    <tr>\n",
       "      <th>tax</th>\n",
       "      <td>0.012480</td>\n",
       "      <td>0.268717</td>\n",
       "      <td>-0.160223</td>\n",
       "      <td>1.000000</td>\n",
       "      <td>-0.513742</td>\n",
       "      <td>0.338341</td>\n",
       "    </tr>\n",
       "    <tr>\n",
       "      <th>mpg</th>\n",
       "      <td>-0.094626</td>\n",
       "      <td>-0.438445</td>\n",
       "      <td>0.202850</td>\n",
       "      <td>-0.513742</td>\n",
       "      <td>1.000000</td>\n",
       "      <td>-0.339862</td>\n",
       "    </tr>\n",
       "    <tr>\n",
       "      <th>engineSize</th>\n",
       "      <td>-0.142147</td>\n",
       "      <td>0.516126</td>\n",
       "      <td>0.063652</td>\n",
       "      <td>0.338341</td>\n",
       "      <td>-0.339862</td>\n",
       "      <td>1.000000</td>\n",
       "    </tr>\n",
       "  </tbody>\n",
       "</table>\n",
       "</div>"
      ],
      "text/plain": [
       "                year     price   mileage       tax       mpg  engineSize\n",
       "year        1.000000  0.520712 -0.738027  0.012480 -0.094626   -0.142147\n",
       "price       0.520712  1.000000 -0.537214  0.268717 -0.438445    0.516126\n",
       "mileage    -0.738027 -0.537214  1.000000 -0.160223  0.202850    0.063652\n",
       "tax         0.012480  0.268717 -0.160223  1.000000 -0.513742    0.338341\n",
       "mpg        -0.094626 -0.438445  0.202850 -0.513742  1.000000   -0.339862\n",
       "engineSize -0.142147  0.516126  0.063652  0.338341 -0.339862    1.000000"
      ]
     },
     "execution_count": 31,
     "metadata": {},
     "output_type": "execute_result"
    }
   ],
   "source": [
    "dataFrame.corr()"
   ]
  },
  {
   "cell_type": "markdown",
   "id": "announced-approval",
   "metadata": {},
   "source": [
    "Price değişkeninin diğer verilerle korelasyon ilişkisine bakılması"
   ]
  },
  {
   "cell_type": "code",
   "execution_count": 33,
   "id": "beginning-hudson",
   "metadata": {},
   "outputs": [
    {
     "data": {
      "text/plain": [
       "mileage      -0.537214\n",
       "mpg          -0.438445\n",
       "tax           0.268717\n",
       "engineSize    0.516126\n",
       "year          0.520712\n",
       "price         1.000000\n",
       "Name: price, dtype: float64"
      ]
     },
     "execution_count": 33,
     "metadata": {},
     "output_type": "execute_result"
    }
   ],
   "source": [
    "dataFrame.corr()[\"price\"].sort_values()"
   ]
  },
  {
   "cell_type": "markdown",
   "id": "provincial-overhead",
   "metadata": {},
   "source": [
    "Serpilme diyagramıyla verilerin nerede toplanıldığına bakılması"
   ]
  },
  {
   "cell_type": "code",
   "execution_count": 34,
   "id": "established-russell",
   "metadata": {},
   "outputs": [
    {
     "data": {
      "text/plain": [
       "<AxesSubplot:xlabel='mileage', ylabel='price'>"
      ]
     },
     "execution_count": 34,
     "metadata": {},
     "output_type": "execute_result"
    },
    {
     "data": {
      "image/png": "[encoded data removed]",
      "text/plain": [
       "<Figure size 432x288 with 1 Axes>"
      ]
     },
     "metadata": {
      "needs_background": "light"
     },
     "output_type": "display_data"
    }
   ],
   "source": [
    "sbn.scatterplot(x=\"mileage\", y=\"price\", data=dataFrame)"
   ]
  },
  {
   "cell_type": "markdown",
   "id": "pretty-active",
   "metadata": {},
   "source": [
    "Yüksek fiyatlı 20 ürünün özelliklerine göre sıralanması"
   ]
  },
  {
   "cell_type": "code",
   "execution_count": 35,
   "id": "caring-belfast",
   "metadata": {},
   "outputs": [
    {
     "data": {
      "text/html": [
       "<div>\n",
       "<style scoped>\n",
       "    .dataframe tbody tr th:only-of-type {\n",
       "        vertical-align: middle;\n",
       "    }\n",
       "\n",
       "    .dataframe tbody tr th {\n",
       "        vertical-align: top;\n",
       "    }\n",
       "\n",
       "    .dataframe thead th {\n",
       "        text-align: right;\n",
       "    }\n",
       "</style>\n",
       "<table border=\"1\" class=\"dataframe\">\n",
       "  <thead>\n",
       "    <tr style=\"text-align: right;\">\n",
       "      <th></th>\n",
       "      <th>year</th>\n",
       "      <th>price</th>\n",
       "      <th>transmission</th>\n",
       "      <th>mileage</th>\n",
       "      <th>tax</th>\n",
       "      <th>mpg</th>\n",
       "      <th>engineSize</th>\n",
       "    </tr>\n",
       "  </thead>\n",
       "  <tbody>\n",
       "    <tr>\n",
       "      <th>6199</th>\n",
       "      <td>2020</td>\n",
       "      <td>159999</td>\n",
       "      <td>Semi-Auto</td>\n",
       "      <td>1350</td>\n",
       "      <td>145</td>\n",
       "      <td>21.4</td>\n",
       "      <td>4.0</td>\n",
       "    </tr>\n",
       "    <tr>\n",
       "      <th>10044</th>\n",
       "      <td>2020</td>\n",
       "      <td>154998</td>\n",
       "      <td>Automatic</td>\n",
       "      <td>3000</td>\n",
       "      <td>150</td>\n",
       "      <td>21.4</td>\n",
       "      <td>4.0</td>\n",
       "    </tr>\n",
       "    <tr>\n",
       "      <th>5</th>\n",
       "      <td>2011</td>\n",
       "      <td>149948</td>\n",
       "      <td>Automatic</td>\n",
       "      <td>3000</td>\n",
       "      <td>570</td>\n",
       "      <td>21.4</td>\n",
       "      <td>6.2</td>\n",
       "    </tr>\n",
       "    <tr>\n",
       "      <th>8737</th>\n",
       "      <td>2019</td>\n",
       "      <td>140319</td>\n",
       "      <td>Semi-Auto</td>\n",
       "      <td>785</td>\n",
       "      <td>150</td>\n",
       "      <td>22.1</td>\n",
       "      <td>4.0</td>\n",
       "    </tr>\n",
       "    <tr>\n",
       "      <th>6386</th>\n",
       "      <td>2018</td>\n",
       "      <td>139995</td>\n",
       "      <td>Semi-Auto</td>\n",
       "      <td>13046</td>\n",
       "      <td>145</td>\n",
       "      <td>21.4</td>\n",
       "      <td>4.0</td>\n",
       "    </tr>\n",
       "    <tr>\n",
       "      <th>8</th>\n",
       "      <td>2019</td>\n",
       "      <td>139948</td>\n",
       "      <td>Automatic</td>\n",
       "      <td>12000</td>\n",
       "      <td>145</td>\n",
       "      <td>21.4</td>\n",
       "      <td>4.0</td>\n",
       "    </tr>\n",
       "    <tr>\n",
       "      <th>9133</th>\n",
       "      <td>2019</td>\n",
       "      <td>139559</td>\n",
       "      <td>Semi-Auto</td>\n",
       "      <td>1000</td>\n",
       "      <td>145</td>\n",
       "      <td>22.1</td>\n",
       "      <td>4.0</td>\n",
       "    </tr>\n",
       "    <tr>\n",
       "      <th>8821</th>\n",
       "      <td>2020</td>\n",
       "      <td>138439</td>\n",
       "      <td>Semi-Auto</td>\n",
       "      <td>1000</td>\n",
       "      <td>145</td>\n",
       "      <td>22.1</td>\n",
       "      <td>4.0</td>\n",
       "    </tr>\n",
       "    <tr>\n",
       "      <th>5902</th>\n",
       "      <td>2018</td>\n",
       "      <td>135771</td>\n",
       "      <td>Semi-Auto</td>\n",
       "      <td>19000</td>\n",
       "      <td>145</td>\n",
       "      <td>21.4</td>\n",
       "      <td>4.0</td>\n",
       "    </tr>\n",
       "    <tr>\n",
       "      <th>7864</th>\n",
       "      <td>2018</td>\n",
       "      <td>135124</td>\n",
       "      <td>Semi-Auto</td>\n",
       "      <td>18234</td>\n",
       "      <td>150</td>\n",
       "      <td>21.4</td>\n",
       "      <td>4.0</td>\n",
       "    </tr>\n",
       "    <tr>\n",
       "      <th>8673</th>\n",
       "      <td>2019</td>\n",
       "      <td>134219</td>\n",
       "      <td>Semi-Auto</td>\n",
       "      <td>1000</td>\n",
       "      <td>145</td>\n",
       "      <td>24.8</td>\n",
       "      <td>4.0</td>\n",
       "    </tr>\n",
       "    <tr>\n",
       "      <th>6210</th>\n",
       "      <td>2019</td>\n",
       "      <td>129990</td>\n",
       "      <td>Automatic</td>\n",
       "      <td>1000</td>\n",
       "      <td>145</td>\n",
       "      <td>24.8</td>\n",
       "      <td>4.0</td>\n",
       "    </tr>\n",
       "    <tr>\n",
       "      <th>4759</th>\n",
       "      <td>2019</td>\n",
       "      <td>126000</td>\n",
       "      <td>Automatic</td>\n",
       "      <td>250</td>\n",
       "      <td>145</td>\n",
       "      <td>24.6</td>\n",
       "      <td>4.0</td>\n",
       "    </tr>\n",
       "    <tr>\n",
       "      <th>2647</th>\n",
       "      <td>2019</td>\n",
       "      <td>125796</td>\n",
       "      <td>Automatic</td>\n",
       "      <td>637</td>\n",
       "      <td>145</td>\n",
       "      <td>24.8</td>\n",
       "      <td>4.0</td>\n",
       "    </tr>\n",
       "    <tr>\n",
       "      <th>6223</th>\n",
       "      <td>2019</td>\n",
       "      <td>124999</td>\n",
       "      <td>Automatic</td>\n",
       "      <td>1500</td>\n",
       "      <td>145</td>\n",
       "      <td>31.7</td>\n",
       "      <td>4.0</td>\n",
       "    </tr>\n",
       "    <tr>\n",
       "      <th>4094</th>\n",
       "      <td>2019</td>\n",
       "      <td>124366</td>\n",
       "      <td>Semi-Auto</td>\n",
       "      <td>880</td>\n",
       "      <td>145</td>\n",
       "      <td>24.8</td>\n",
       "      <td>4.0</td>\n",
       "    </tr>\n",
       "    <tr>\n",
       "      <th>2629</th>\n",
       "      <td>2019</td>\n",
       "      <td>123846</td>\n",
       "      <td>Semi-Auto</td>\n",
       "      <td>2951</td>\n",
       "      <td>145</td>\n",
       "      <td>22.1</td>\n",
       "      <td>4.0</td>\n",
       "    </tr>\n",
       "    <tr>\n",
       "      <th>7134</th>\n",
       "      <td>2019</td>\n",
       "      <td>115359</td>\n",
       "      <td>Semi-Auto</td>\n",
       "      <td>1000</td>\n",
       "      <td>145</td>\n",
       "      <td>30.1</td>\n",
       "      <td>4.0</td>\n",
       "    </tr>\n",
       "    <tr>\n",
       "      <th>9159</th>\n",
       "      <td>2019</td>\n",
       "      <td>114199</td>\n",
       "      <td>Semi-Auto</td>\n",
       "      <td>891</td>\n",
       "      <td>145</td>\n",
       "      <td>22.6</td>\n",
       "      <td>4.0</td>\n",
       "    </tr>\n",
       "    <tr>\n",
       "      <th>1980</th>\n",
       "      <td>2019</td>\n",
       "      <td>109995</td>\n",
       "      <td>Semi-Auto</td>\n",
       "      <td>4688</td>\n",
       "      <td>150</td>\n",
       "      <td>31.7</td>\n",
       "      <td>4.0</td>\n",
       "    </tr>\n",
       "  </tbody>\n",
       "</table>\n",
       "</div>"
      ],
      "text/plain": [
       "       year   price transmission  mileage  tax   mpg  engineSize\n",
       "6199   2020  159999    Semi-Auto     1350  145  21.4         4.0\n",
       "10044  2020  154998    Automatic     3000  150  21.4         4.0\n",
       "5      2011  149948    Automatic     3000  570  21.4         6.2\n",
       "8737   2019  140319    Semi-Auto      785  150  22.1         4.0\n",
       "6386   2018  139995    Semi-Auto    13046  145  21.4         4.0\n",
       "8      2019  139948    Automatic    12000  145  21.4         4.0\n",
       "9133   2019  139559    Semi-Auto     1000  145  22.1         4.0\n",
       "8821   2020  138439    Semi-Auto     1000  145  22.1         4.0\n",
       "5902   2018  135771    Semi-Auto    19000  145  21.4         4.0\n",
       "7864   2018  135124    Semi-Auto    18234  150  21.4         4.0\n",
       "8673   2019  134219    Semi-Auto     1000  145  24.8         4.0\n",
       "6210   2019  129990    Automatic     1000  145  24.8         4.0\n",
       "4759   2019  126000    Automatic      250  145  24.6         4.0\n",
       "2647   2019  125796    Automatic      637  145  24.8         4.0\n",
       "6223   2019  124999    Automatic     1500  145  31.7         4.0\n",
       "4094   2019  124366    Semi-Auto      880  145  24.8         4.0\n",
       "2629   2019  123846    Semi-Auto     2951  145  22.1         4.0\n",
       "7134   2019  115359    Semi-Auto     1000  145  30.1         4.0\n",
       "9159   2019  114199    Semi-Auto      891  145  22.6         4.0\n",
       "1980   2019  109995    Semi-Auto     4688  150  31.7         4.0"
      ]
     },
     "execution_count": 35,
     "metadata": {},
     "output_type": "execute_result"
    }
   ],
   "source": [
    "dataFrame.sort_values(\"price\",ascending=False).head(20)"
   ]
  },
  {
   "cell_type": "markdown",
   "id": "compliant-character",
   "metadata": {},
   "source": [
    "Güven aralığını %99 alarak 1970 yılından başlayarak 131 verinin silinmesi(13000 verinin %1i silinerek anlamlı veri seti elde edilmeye çalışılmıştır.)"
   ]
  },
  {
   "cell_type": "code",
   "execution_count": 36,
   "id": "organizational-string",
   "metadata": {},
   "outputs": [],
   "source": [
    "doksanDokuzDF=dataFrame.sort_values(\"price\",ascending=False).iloc[131:]"
   ]
  },
  {
   "cell_type": "markdown",
   "id": "individual-stations",
   "metadata": {},
   "source": [
    "12869 verinin istatistiksel özelliklerine bakılması"
   ]
  },
  {
   "cell_type": "code",
   "execution_count": 37,
   "id": "bronze-breakfast",
   "metadata": {},
   "outputs": [
    {
     "data": {
      "text/html": [
       "<div>\n",
       "<style scoped>\n",
       "    .dataframe tbody tr th:only-of-type {\n",
       "        vertical-align: middle;\n",
       "    }\n",
       "\n",
       "    .dataframe tbody tr th {\n",
       "        vertical-align: top;\n",
       "    }\n",
       "\n",
       "    .dataframe thead th {\n",
       "        text-align: right;\n",
       "    }\n",
       "</style>\n",
       "<table border=\"1\" class=\"dataframe\">\n",
       "  <thead>\n",
       "    <tr style=\"text-align: right;\">\n",
       "      <th></th>\n",
       "      <th>year</th>\n",
       "      <th>price</th>\n",
       "      <th>mileage</th>\n",
       "      <th>tax</th>\n",
       "      <th>mpg</th>\n",
       "      <th>engineSize</th>\n",
       "    </tr>\n",
       "  </thead>\n",
       "  <tbody>\n",
       "    <tr>\n",
       "      <th>count</th>\n",
       "      <td>12988.000000</td>\n",
       "      <td>12988.000000</td>\n",
       "      <td>12988.000000</td>\n",
       "      <td>12988.000000</td>\n",
       "      <td>12988.000000</td>\n",
       "      <td>12988.000000</td>\n",
       "    </tr>\n",
       "    <tr>\n",
       "      <th>mean</th>\n",
       "      <td>2017.281876</td>\n",
       "      <td>24074.926933</td>\n",
       "      <td>22132.741146</td>\n",
       "      <td>129.689714</td>\n",
       "      <td>55.437142</td>\n",
       "      <td>2.050901</td>\n",
       "    </tr>\n",
       "    <tr>\n",
       "      <th>std</th>\n",
       "      <td>2.228515</td>\n",
       "      <td>9866.224575</td>\n",
       "      <td>21196.776401</td>\n",
       "      <td>65.183076</td>\n",
       "      <td>15.025999</td>\n",
       "      <td>0.532596</td>\n",
       "    </tr>\n",
       "    <tr>\n",
       "      <th>min</th>\n",
       "      <td>1970.000000</td>\n",
       "      <td>650.000000</td>\n",
       "      <td>1.000000</td>\n",
       "      <td>0.000000</td>\n",
       "      <td>1.100000</td>\n",
       "      <td>0.000000</td>\n",
       "    </tr>\n",
       "    <tr>\n",
       "      <th>25%</th>\n",
       "      <td>2016.000000</td>\n",
       "      <td>17357.500000</td>\n",
       "      <td>6322.000000</td>\n",
       "      <td>125.000000</td>\n",
       "      <td>45.600000</td>\n",
       "      <td>1.675000</td>\n",
       "    </tr>\n",
       "    <tr>\n",
       "      <th>50%</th>\n",
       "      <td>2018.000000</td>\n",
       "      <td>22299.000000</td>\n",
       "      <td>15369.500000</td>\n",
       "      <td>145.000000</td>\n",
       "      <td>56.500000</td>\n",
       "      <td>2.000000</td>\n",
       "    </tr>\n",
       "    <tr>\n",
       "      <th>75%</th>\n",
       "      <td>2019.000000</td>\n",
       "      <td>28706.000000</td>\n",
       "      <td>31982.250000</td>\n",
       "      <td>145.000000</td>\n",
       "      <td>64.200000</td>\n",
       "      <td>2.100000</td>\n",
       "    </tr>\n",
       "    <tr>\n",
       "      <th>max</th>\n",
       "      <td>2020.000000</td>\n",
       "      <td>65990.000000</td>\n",
       "      <td>259000.000000</td>\n",
       "      <td>580.000000</td>\n",
       "      <td>217.300000</td>\n",
       "      <td>6.200000</td>\n",
       "    </tr>\n",
       "  </tbody>\n",
       "</table>\n",
       "</div>"
      ],
      "text/plain": [
       "               year         price        mileage           tax           mpg  \\\n",
       "count  12988.000000  12988.000000   12988.000000  12988.000000  12988.000000   \n",
       "mean    2017.281876  24074.926933   22132.741146    129.689714     55.437142   \n",
       "std        2.228515   9866.224575   21196.776401     65.183076     15.025999   \n",
       "min     1970.000000    650.000000       1.000000      0.000000      1.100000   \n",
       "25%     2016.000000  17357.500000    6322.000000    125.000000     45.600000   \n",
       "50%     2018.000000  22299.000000   15369.500000    145.000000     56.500000   \n",
       "75%     2019.000000  28706.000000   31982.250000    145.000000     64.200000   \n",
       "max     2020.000000  65990.000000  259000.000000    580.000000    217.300000   \n",
       "\n",
       "         engineSize  \n",
       "count  12988.000000  \n",
       "mean       2.050901  \n",
       "std        0.532596  \n",
       "min        0.000000  \n",
       "25%        1.675000  \n",
       "50%        2.000000  \n",
       "75%        2.100000  \n",
       "max        6.200000  "
      ]
     },
     "execution_count": 37,
     "metadata": {},
     "output_type": "execute_result"
    }
   ],
   "source": [
    "doksanDokuzDF.describe()"
   ]
  },
  {
   "cell_type": "markdown",
   "id": "future-philippines",
   "metadata": {},
   "source": [
    "12869 verideki fiyatların dağılımına bakılması"
   ]
  },
  {
   "cell_type": "code",
   "execution_count": 40,
   "id": "stupid-anniversary",
   "metadata": {},
   "outputs": [
    {
     "data": {
      "text/plain": [
       "<seaborn.axisgrid.FacetGrid at 0x1c53071d310>"
      ]
     },
     "execution_count": 40,
     "metadata": {},
     "output_type": "execute_result"
    },
    {
     "data": {
      "image/png": "[encoded data removed]",
      "text/plain": [
       "<Figure size 360x360 with 1 Axes>"
      ]
     },
     "metadata": {
      "needs_background": "light"
     },
     "output_type": "display_data"
    }
   ],
   "source": [
    "sbn.displot(doksanDokuzDF[\"price\"])"
   ]
  },
  {
   "cell_type": "markdown",
   "id": "objective-particular",
   "metadata": {},
   "source": [
    "Dataların yıl değişkenine göre fiyatlandırmasına bakılarak gruplandırılması"
   ]
  },
  {
   "cell_type": "code",
   "execution_count": 41,
   "id": "unique-checklist",
   "metadata": {},
   "outputs": [
    {
     "data": {
      "text/plain": [
       "year\n",
       "1970    24999.000000\n",
       "1997     9995.000000\n",
       "1998     8605.000000\n",
       "1999     5995.000000\n",
       "2000     5743.333333\n",
       "2001     4957.900000\n",
       "2002     5820.444444\n",
       "2003     4878.000000\n",
       "2004     4727.615385\n",
       "2005     4426.111111\n",
       "2006     4036.875000\n",
       "2007     5136.045455\n",
       "2008     6967.437500\n",
       "2009     6166.764706\n",
       "2010     8308.473684\n",
       "2011    12624.894737\n",
       "2012    10845.140351\n",
       "2013    11939.842466\n",
       "2014    14042.936864\n",
       "2015    16731.780020\n",
       "2016    19307.892948\n",
       "2017    21514.307854\n",
       "2018    25720.162918\n",
       "2019    31290.020865\n",
       "2020    35433.282337\n",
       "Name: price, dtype: float64"
      ]
     },
     "execution_count": 41,
     "metadata": {},
     "output_type": "execute_result"
    }
   ],
   "source": [
    "dataFrame.groupby(\"year\").mean()[\"price\"]"
   ]
  },
  {
   "cell_type": "markdown",
   "id": "intellectual-pitch",
   "metadata": {},
   "source": [
    "Yukarıdaki gruplamada 1970 yılındaki verinin diğer verilere göre tutarsız olduğu görülüyor. Bundan dolayı veri çıkartılırsa daha anlamlı bir veri setiyle işlem yapılabilir. "
   ]
  },
  {
   "cell_type": "code",
   "execution_count": 42,
   "id": "amber-storage",
   "metadata": {},
   "outputs": [
    {
     "data": {
      "text/plain": [
       "year\n",
       "1997     9995.000000\n",
       "1998     8605.000000\n",
       "1999     5995.000000\n",
       "2000     5743.333333\n",
       "2001     4957.900000\n",
       "2002     5820.444444\n",
       "2003     4878.000000\n",
       "2004     4727.615385\n",
       "2005     4426.111111\n",
       "2006     4036.875000\n",
       "2007     5136.045455\n",
       "2008     6967.437500\n",
       "2009     6166.764706\n",
       "2010     8308.473684\n",
       "2011    12624.894737\n",
       "2012    10845.140351\n",
       "2013    11939.842466\n",
       "2014    14042.936864\n",
       "2015    16731.780020\n",
       "2016    19307.892948\n",
       "2017    21514.307854\n",
       "2018    25720.162918\n",
       "2019    31290.020865\n",
       "2020    35433.282337\n",
       "Name: price, dtype: float64"
      ]
     },
     "execution_count": 42,
     "metadata": {},
     "output_type": "execute_result"
    }
   ],
   "source": [
    "dataFrame[dataFrame.year!=1970].groupby(\"year\").mean()[\"price\"]"
   ]
  },
  {
   "cell_type": "markdown",
   "id": "major-sauce",
   "metadata": {},
   "source": [
    "DataFramein %99 güven aralığıyla çalışması"
   ]
  },
  {
   "cell_type": "code",
   "execution_count": 43,
   "id": "geographic-arcade",
   "metadata": {},
   "outputs": [],
   "source": [
    "dataFrame=doksanDokuzDF"
   ]
  },
  {
   "cell_type": "code",
   "execution_count": 44,
   "id": "endless-yield",
   "metadata": {},
   "outputs": [
    {
     "data": {
      "text/html": [
       "<div>\n",
       "<style scoped>\n",
       "    .dataframe tbody tr th:only-of-type {\n",
       "        vertical-align: middle;\n",
       "    }\n",
       "\n",
       "    .dataframe tbody tr th {\n",
       "        vertical-align: top;\n",
       "    }\n",
       "\n",
       "    .dataframe thead th {\n",
       "        text-align: right;\n",
       "    }\n",
       "</style>\n",
       "<table border=\"1\" class=\"dataframe\">\n",
       "  <thead>\n",
       "    <tr style=\"text-align: right;\">\n",
       "      <th></th>\n",
       "      <th>year</th>\n",
       "      <th>price</th>\n",
       "      <th>mileage</th>\n",
       "      <th>tax</th>\n",
       "      <th>mpg</th>\n",
       "      <th>engineSize</th>\n",
       "    </tr>\n",
       "  </thead>\n",
       "  <tbody>\n",
       "    <tr>\n",
       "      <th>count</th>\n",
       "      <td>12988.000000</td>\n",
       "      <td>12988.000000</td>\n",
       "      <td>12988.000000</td>\n",
       "      <td>12988.000000</td>\n",
       "      <td>12988.000000</td>\n",
       "      <td>12988.000000</td>\n",
       "    </tr>\n",
       "    <tr>\n",
       "      <th>mean</th>\n",
       "      <td>2017.281876</td>\n",
       "      <td>24074.926933</td>\n",
       "      <td>22132.741146</td>\n",
       "      <td>129.689714</td>\n",
       "      <td>55.437142</td>\n",
       "      <td>2.050901</td>\n",
       "    </tr>\n",
       "    <tr>\n",
       "      <th>std</th>\n",
       "      <td>2.228515</td>\n",
       "      <td>9866.224575</td>\n",
       "      <td>21196.776401</td>\n",
       "      <td>65.183076</td>\n",
       "      <td>15.025999</td>\n",
       "      <td>0.532596</td>\n",
       "    </tr>\n",
       "    <tr>\n",
       "      <th>min</th>\n",
       "      <td>1970.000000</td>\n",
       "      <td>650.000000</td>\n",
       "      <td>1.000000</td>\n",
       "      <td>0.000000</td>\n",
       "      <td>1.100000</td>\n",
       "      <td>0.000000</td>\n",
       "    </tr>\n",
       "    <tr>\n",
       "      <th>25%</th>\n",
       "      <td>2016.000000</td>\n",
       "      <td>17357.500000</td>\n",
       "      <td>6322.000000</td>\n",
       "      <td>125.000000</td>\n",
       "      <td>45.600000</td>\n",
       "      <td>1.675000</td>\n",
       "    </tr>\n",
       "    <tr>\n",
       "      <th>50%</th>\n",
       "      <td>2018.000000</td>\n",
       "      <td>22299.000000</td>\n",
       "      <td>15369.500000</td>\n",
       "      <td>145.000000</td>\n",
       "      <td>56.500000</td>\n",
       "      <td>2.000000</td>\n",
       "    </tr>\n",
       "    <tr>\n",
       "      <th>75%</th>\n",
       "      <td>2019.000000</td>\n",
       "      <td>28706.000000</td>\n",
       "      <td>31982.250000</td>\n",
       "      <td>145.000000</td>\n",
       "      <td>64.200000</td>\n",
       "      <td>2.100000</td>\n",
       "    </tr>\n",
       "    <tr>\n",
       "      <th>max</th>\n",
       "      <td>2020.000000</td>\n",
       "      <td>65990.000000</td>\n",
       "      <td>259000.000000</td>\n",
       "      <td>580.000000</td>\n",
       "      <td>217.300000</td>\n",
       "      <td>6.200000</td>\n",
       "    </tr>\n",
       "  </tbody>\n",
       "</table>\n",
       "</div>"
      ],
      "text/plain": [
       "               year         price        mileage           tax           mpg  \\\n",
       "count  12988.000000  12988.000000   12988.000000  12988.000000  12988.000000   \n",
       "mean    2017.281876  24074.926933   22132.741146    129.689714     55.437142   \n",
       "std        2.228515   9866.224575   21196.776401     65.183076     15.025999   \n",
       "min     1970.000000    650.000000       1.000000      0.000000      1.100000   \n",
       "25%     2016.000000  17357.500000    6322.000000    125.000000     45.600000   \n",
       "50%     2018.000000  22299.000000   15369.500000    145.000000     56.500000   \n",
       "75%     2019.000000  28706.000000   31982.250000    145.000000     64.200000   \n",
       "max     2020.000000  65990.000000  259000.000000    580.000000    217.300000   \n",
       "\n",
       "         engineSize  \n",
       "count  12988.000000  \n",
       "mean       2.050901  \n",
       "std        0.532596  \n",
       "min        0.000000  \n",
       "25%        1.675000  \n",
       "50%        2.000000  \n",
       "75%        2.100000  \n",
       "max        6.200000  "
      ]
     },
     "execution_count": 44,
     "metadata": {},
     "output_type": "execute_result"
    }
   ],
   "source": [
    "dataFrame.describe()"
   ]
  },
  {
   "cell_type": "markdown",
   "id": "polished-chance",
   "metadata": {},
   "source": [
    "1970 datasını çıkartma işleminin gerçekleşmesi"
   ]
  },
  {
   "cell_type": "code",
   "execution_count": 45,
   "id": "hispanic-slide",
   "metadata": {},
   "outputs": [],
   "source": [
    "dataFrame=dataFrame[dataFrame.year!=1970]"
   ]
  },
  {
   "cell_type": "code",
   "execution_count": 46,
   "id": "statistical-complaint",
   "metadata": {},
   "outputs": [
    {
     "data": {
      "text/plain": [
       "year\n",
       "1997     9995.000000\n",
       "1998     8605.000000\n",
       "1999     5995.000000\n",
       "2000     5743.333333\n",
       "2001     4957.900000\n",
       "2002     5820.444444\n",
       "2003     4878.000000\n",
       "2004     4727.615385\n",
       "2005     4426.111111\n",
       "2006     4036.875000\n",
       "2007     5136.045455\n",
       "2008     6967.437500\n",
       "2009     6166.764706\n",
       "2010     8308.473684\n",
       "2011     8913.459459\n",
       "2012    10845.140351\n",
       "2013    11939.842466\n",
       "2014    14042.936864\n",
       "2015    16647.822222\n",
       "2016    19223.558943\n",
       "2017    21356.280421\n",
       "2018    24800.844506\n",
       "2019    30289.524832\n",
       "2020    34234.794872\n",
       "Name: price, dtype: float64"
      ]
     },
     "execution_count": 46,
     "metadata": {},
     "output_type": "execute_result"
    }
   ],
   "source": [
    "dataFrame.groupby(\"year\").mean()[\"price\"]"
   ]
  },
  {
   "cell_type": "code",
   "execution_count": 24,
   "id": "dynamic-plymouth",
   "metadata": {},
   "outputs": [
    {
     "data": {
      "text/html": [
       "<div>\n",
       "<style scoped>\n",
       "    .dataframe tbody tr th:only-of-type {\n",
       "        vertical-align: middle;\n",
       "    }\n",
       "\n",
       "    .dataframe tbody tr th {\n",
       "        vertical-align: top;\n",
       "    }\n",
       "\n",
       "    .dataframe thead th {\n",
       "        text-align: right;\n",
       "    }\n",
       "</style>\n",
       "<table border=\"1\" class=\"dataframe\">\n",
       "  <thead>\n",
       "    <tr style=\"text-align: right;\">\n",
       "      <th></th>\n",
       "      <th>year</th>\n",
       "      <th>price</th>\n",
       "      <th>transmission</th>\n",
       "      <th>mileage</th>\n",
       "      <th>tax</th>\n",
       "      <th>mpg</th>\n",
       "      <th>engineSize</th>\n",
       "    </tr>\n",
       "  </thead>\n",
       "  <tbody>\n",
       "    <tr>\n",
       "      <th>6177</th>\n",
       "      <td>2019</td>\n",
       "      <td>65990</td>\n",
       "      <td>Semi-Auto</td>\n",
       "      <td>5076</td>\n",
       "      <td>150</td>\n",
       "      <td>30.4</td>\n",
       "      <td>3.0</td>\n",
       "    </tr>\n",
       "    <tr>\n",
       "      <th>5779</th>\n",
       "      <td>2020</td>\n",
       "      <td>65990</td>\n",
       "      <td>Semi-Auto</td>\n",
       "      <td>999</td>\n",
       "      <td>145</td>\n",
       "      <td>28.0</td>\n",
       "      <td>4.0</td>\n",
       "    </tr>\n",
       "    <tr>\n",
       "      <th>3191</th>\n",
       "      <td>2020</td>\n",
       "      <td>65980</td>\n",
       "      <td>Semi-Auto</td>\n",
       "      <td>3999</td>\n",
       "      <td>145</td>\n",
       "      <td>28.0</td>\n",
       "      <td>4.0</td>\n",
       "    </tr>\n",
       "    <tr>\n",
       "      <th>4727</th>\n",
       "      <td>2019</td>\n",
       "      <td>65000</td>\n",
       "      <td>Semi-Auto</td>\n",
       "      <td>3398</td>\n",
       "      <td>145</td>\n",
       "      <td>27.2</td>\n",
       "      <td>4.0</td>\n",
       "    </tr>\n",
       "    <tr>\n",
       "      <th>8814</th>\n",
       "      <td>2019</td>\n",
       "      <td>64999</td>\n",
       "      <td>Semi-Auto</td>\n",
       "      <td>119</td>\n",
       "      <td>145</td>\n",
       "      <td>40.9</td>\n",
       "      <td>3.0</td>\n",
       "    </tr>\n",
       "  </tbody>\n",
       "</table>\n",
       "</div>"
      ],
      "text/plain": [
       "      year  price transmission  mileage  tax   mpg  engineSize\n",
       "6177  2019  65990    Semi-Auto     5076  150  30.4         3.0\n",
       "5779  2020  65990    Semi-Auto      999  145  28.0         4.0\n",
       "3191  2020  65980    Semi-Auto     3999  145  28.0         4.0\n",
       "4727  2019  65000    Semi-Auto     3398  145  27.2         4.0\n",
       "8814  2019  64999    Semi-Auto      119  145  40.9         3.0"
      ]
     },
     "execution_count": 24,
     "metadata": {},
     "output_type": "execute_result"
    }
   ],
   "source": [
    "dataFrame.head()"
   ]
  },
  {
   "cell_type": "markdown",
   "id": "frozen-labor",
   "metadata": {},
   "source": [
    "Transmission ifadesi string olduğu için çıkartılmasının daha uygundur."
   ]
  },
  {
   "cell_type": "code",
   "execution_count": 48,
   "id": "pediatric-mechanism",
   "metadata": {},
   "outputs": [],
   "source": [
    "dataFrame=dataFrame.drop(\"transmission\", axis=1)"
   ]
  },
  {
   "cell_type": "code",
   "execution_count": 49,
   "id": "sized-integration",
   "metadata": {},
   "outputs": [
    {
     "data": {
      "text/html": [
       "<div>\n",
       "<style scoped>\n",
       "    .dataframe tbody tr th:only-of-type {\n",
       "        vertical-align: middle;\n",
       "    }\n",
       "\n",
       "    .dataframe tbody tr th {\n",
       "        vertical-align: top;\n",
       "    }\n",
       "\n",
       "    .dataframe thead th {\n",
       "        text-align: right;\n",
       "    }\n",
       "</style>\n",
       "<table border=\"1\" class=\"dataframe\">\n",
       "  <thead>\n",
       "    <tr style=\"text-align: right;\">\n",
       "      <th></th>\n",
       "      <th>year</th>\n",
       "      <th>price</th>\n",
       "      <th>mileage</th>\n",
       "      <th>tax</th>\n",
       "      <th>mpg</th>\n",
       "      <th>engineSize</th>\n",
       "    </tr>\n",
       "  </thead>\n",
       "  <tbody>\n",
       "    <tr>\n",
       "      <th>6177</th>\n",
       "      <td>2019</td>\n",
       "      <td>65990</td>\n",
       "      <td>5076</td>\n",
       "      <td>150</td>\n",
       "      <td>30.4</td>\n",
       "      <td>3.0</td>\n",
       "    </tr>\n",
       "    <tr>\n",
       "      <th>5779</th>\n",
       "      <td>2020</td>\n",
       "      <td>65990</td>\n",
       "      <td>999</td>\n",
       "      <td>145</td>\n",
       "      <td>28.0</td>\n",
       "      <td>4.0</td>\n",
       "    </tr>\n",
       "    <tr>\n",
       "      <th>3191</th>\n",
       "      <td>2020</td>\n",
       "      <td>65980</td>\n",
       "      <td>3999</td>\n",
       "      <td>145</td>\n",
       "      <td>28.0</td>\n",
       "      <td>4.0</td>\n",
       "    </tr>\n",
       "    <tr>\n",
       "      <th>4727</th>\n",
       "      <td>2019</td>\n",
       "      <td>65000</td>\n",
       "      <td>3398</td>\n",
       "      <td>145</td>\n",
       "      <td>27.2</td>\n",
       "      <td>4.0</td>\n",
       "    </tr>\n",
       "    <tr>\n",
       "      <th>8814</th>\n",
       "      <td>2019</td>\n",
       "      <td>64999</td>\n",
       "      <td>119</td>\n",
       "      <td>145</td>\n",
       "      <td>40.9</td>\n",
       "      <td>3.0</td>\n",
       "    </tr>\n",
       "  </tbody>\n",
       "</table>\n",
       "</div>"
      ],
      "text/plain": [
       "      year  price  mileage  tax   mpg  engineSize\n",
       "6177  2019  65990     5076  150  30.4         3.0\n",
       "5779  2020  65990      999  145  28.0         4.0\n",
       "3191  2020  65980     3999  145  28.0         4.0\n",
       "4727  2019  65000     3398  145  27.2         4.0\n",
       "8814  2019  64999      119  145  40.9         3.0"
      ]
     },
     "execution_count": 49,
     "metadata": {},
     "output_type": "execute_result"
    }
   ],
   "source": [
    "dataFrame.head()"
   ]
  },
  {
   "cell_type": "markdown",
   "id": "separate-exercise",
   "metadata": {},
   "source": [
    "Bağımlı ve bağımsız değişkenlerin belirlenmesi"
   ]
  },
  {
   "cell_type": "code",
   "execution_count": 50,
   "id": "humanitarian-candy",
   "metadata": {},
   "outputs": [],
   "source": [
    "y=dataFrame[\"price\"].values\n",
    "x=dataFrame.drop(\"price\",axis=1).values"
   ]
  },
  {
   "cell_type": "markdown",
   "id": "knowing-respect",
   "metadata": {},
   "source": [
    "Test ve eğitim değişkenlerinin oluşturulması ve import edilmesi"
   ]
  },
  {
   "cell_type": "code",
   "execution_count": 51,
   "id": "tropical-parliament",
   "metadata": {},
   "outputs": [],
   "source": [
    "from sklearn.model_selection import train_test_split"
   ]
  },
  {
   "cell_type": "markdown",
   "id": "amended-emerald",
   "metadata": {},
   "source": [
    "Bir tahmin fonksiyonunun parametrelerini öğrenmek ve onu aynı veriler üzerinde test etmek overfittinge yol açacağı için verilerin %30uyla test verisi oluşturarak model eğitilmelidir."
   ]
  },
  {
   "cell_type": "code",
   "execution_count": 52,
   "id": "distinguished-stretch",
   "metadata": {},
   "outputs": [],
   "source": [
    "x_train,x_test,y_train,y_test=train_test_split(x,y,test_size=0.3, random_state=10)"
   ]
  },
  {
   "cell_type": "code",
   "execution_count": 53,
   "id": "unavailable-pricing",
   "metadata": {},
   "outputs": [
    {
     "data": {
      "text/plain": [
       "9090"
      ]
     },
     "execution_count": 53,
     "metadata": {},
     "output_type": "execute_result"
    }
   ],
   "source": [
    "len(x_train)"
   ]
  },
  {
   "cell_type": "code",
   "execution_count": 54,
   "id": "sonic-thanksgiving",
   "metadata": {},
   "outputs": [
    {
     "data": {
      "text/plain": [
       "9090"
      ]
     },
     "execution_count": 54,
     "metadata": {},
     "output_type": "execute_result"
    }
   ],
   "source": [
    "len(y_train)"
   ]
  },
  {
   "cell_type": "markdown",
   "id": "banner-tower",
   "metadata": {},
   "source": [
    "Ölçeklendirme işleminin yapılması(Bulunan verilerin -1 ile 1 arasına çekilmesi)"
   ]
  },
  {
   "cell_type": "code",
   "execution_count": 56,
   "id": "moving-marker",
   "metadata": {},
   "outputs": [],
   "source": [
    "from sklearn.preprocessing import MinMaxScaler\n",
    "scaler=MinMaxScaler()"
   ]
  },
  {
   "cell_type": "code",
   "execution_count": 57,
   "id": "endless-pencil",
   "metadata": {},
   "outputs": [],
   "source": [
    "x_train=scaler.fit_transform(x_train)"
   ]
  },
  {
   "cell_type": "code",
   "execution_count": 58,
   "id": "built-algorithm",
   "metadata": {},
   "outputs": [],
   "source": [
    "x_test=scaler.transform(x_test)"
   ]
  },
  {
   "cell_type": "markdown",
   "id": "italic-animal",
   "metadata": {},
   "source": [
    "Model ve katman kütüphanelerinin import edilmesi"
   ]
  },
  {
   "cell_type": "code",
   "execution_count": 60,
   "id": "instrumental-exposure",
   "metadata": {},
   "outputs": [
    {
     "data": {
      "text/plain": [
       "(9090, 5)"
      ]
     },
     "execution_count": 60,
     "metadata": {},
     "output_type": "execute_result"
    }
   ],
   "source": [
    "from tensorflow.keras.models import Sequential\n",
    "from tensorflow.keras.layers import Dense\n",
    "x_train.shape"
   ]
  },
  {
   "cell_type": "markdown",
   "id": "worse-fraud",
   "metadata": {},
   "source": [
    "1 giriş katmanı,5 ara katman, 1 tane de çıkış katmanı oluşturulması. Modelin adam optimizeri ve kayıbın  hata kareler toplamıyla oluşturulması."
   ]
  },
  {
   "cell_type": "code",
   "execution_count": 61,
   "id": "obvious-embassy",
   "metadata": {},
   "outputs": [],
   "source": [
    "model=Sequential()\n",
    "model.add(Dense(12,activation=\"relu\"))\n",
    "model.add(Dense(12,activation=\"relu\"))\n",
    "model.add(Dense(12,activation=\"relu\"))\n",
    "model.add(Dense(12,activation=\"relu\"))\n",
    "model.add(Dense(12,activation=\"relu\"))\n",
    "model.add(Dense(1))\n",
    "model.compile(optimizer=\"adam\",loss=\"mse\")"
   ]
  },
  {
   "cell_type": "markdown",
   "id": "partial-basement",
   "metadata": {},
   "source": [
    "Modelin eğitilmesi için batch size ve epochs(Devir sayısı) belirlenmesi"
   ]
  },
  {
   "cell_type": "code",
   "execution_count": 62,
   "id": "important-category",
   "metadata": {},
   "outputs": [
    {
     "name": "stdout",
     "output_type": "stream",
     "text": [
      "Epoch 1/300\n",
      "37/37 [==============================] - 1s 33ms/step - loss: 672145600.0000 - val_loss: 688104128.0000\n",
      "Epoch 2/300\n",
      "37/37 [==============================] - 0s 1ms/step - loss: 672121600.0000 - val_loss: 688054848.0000\n",
      "Epoch 3/300\n",
      "37/37 [==============================] - 0s 1ms/step - loss: 672009216.0000 - val_loss: 687828608.0000\n",
      "Epoch 4/300\n",
      "37/37 [==============================] - 0s 1ms/step - loss: 671540608.0000 - val_loss: 686937024.0000\n",
      "Epoch 5/300\n",
      "37/37 [==============================] - 0s 1ms/step - loss: 669795136.0000 - val_loss: 683766720.0000\n",
      "Epoch 6/300\n",
      "37/37 [==============================] - 0s 1ms/step - loss: 664094784.0000 - val_loss: 673981120.0000\n",
      "Epoch 7/300\n",
      "37/37 [==============================] - 0s 1ms/step - loss: 647716736.0000 - val_loss: 647513152.0000\n",
      "Epoch 8/300\n",
      "37/37 [==============================] - 0s 1ms/step - loss: 607183616.0000 - val_loss: 586717376.0000\n",
      "Epoch 9/300\n",
      "37/37 [==============================] - 0s 1ms/step - loss: 523202784.0000 - val_loss: 472143968.0000\n",
      "Epoch 10/300\n",
      "37/37 [==============================] - 0s 1ms/step - loss: 383837632.0000 - val_loss: 305764192.0000\n",
      "Epoch 11/300\n",
      "37/37 [==============================] - 0s 1ms/step - loss: 218158144.0000 - val_loss: 151537648.0000\n",
      "Epoch 12/300\n",
      "37/37 [==============================] - 0s 1ms/step - loss: 113063136.0000 - val_loss: 96856112.0000\n",
      "Epoch 13/300\n",
      "37/37 [==============================] - 0s 1ms/step - loss: 92478664.0000 - val_loss: 92850360.0000\n",
      "Epoch 14/300\n",
      "37/37 [==============================] - 0s 1ms/step - loss: 90993896.0000 - val_loss: 91996272.0000\n",
      "Epoch 15/300\n",
      "37/37 [==============================] - 0s 1ms/step - loss: 90146872.0000 - val_loss: 91193680.0000\n",
      "Epoch 16/300\n",
      "37/37 [==============================] - 0s 1ms/step - loss: 89365752.0000 - val_loss: 90423432.0000\n",
      "Epoch 17/300\n",
      "37/37 [==============================] - 0s 1ms/step - loss: 88634736.0000 - val_loss: 89704392.0000\n",
      "Epoch 18/300\n",
      "37/37 [==============================] - 0s 1ms/step - loss: 87934152.0000 - val_loss: 89069456.0000\n",
      "Epoch 19/300\n",
      "37/37 [==============================] - 0s 1ms/step - loss: 87251728.0000 - val_loss: 88386392.0000\n",
      "Epoch 20/300\n",
      "37/37 [==============================] - 0s 1ms/step - loss: 86583784.0000 - val_loss: 87710288.0000\n",
      "Epoch 21/300\n",
      "37/37 [==============================] - ETA: 0s - loss: 69287040.00 - 0s 1ms/step - loss: 85938256.0000 - val_loss: 87077728.0000\n",
      "Epoch 22/300\n",
      "37/37 [==============================] - 0s 2ms/step - loss: 85313360.0000 - val_loss: 86470112.0000\n",
      "Epoch 23/300\n",
      "37/37 [==============================] - 0s 1ms/step - loss: 84692328.0000 - val_loss: 85821208.0000\n",
      "Epoch 24/300\n",
      "37/37 [==============================] - 0s 1ms/step - loss: 84056088.0000 - val_loss: 85249928.0000\n",
      "Epoch 25/300\n",
      "37/37 [==============================] - 0s 1ms/step - loss: 83453336.0000 - val_loss: 84604512.0000\n",
      "Epoch 26/300\n",
      "37/37 [==============================] - 0s 1ms/step - loss: 82846528.0000 - val_loss: 84060576.0000\n",
      "Epoch 27/300\n",
      "37/37 [==============================] - 0s 1ms/step - loss: 82240312.0000 - val_loss: 83411544.0000\n",
      "Epoch 28/300\n",
      "37/37 [==============================] - 0s 1ms/step - loss: 81643368.0000 - val_loss: 82834048.0000\n",
      "Epoch 29/300\n",
      "37/37 [==============================] - 0s 1ms/step - loss: 81060544.0000 - val_loss: 82271872.0000\n",
      "Epoch 30/300\n",
      "37/37 [==============================] - 0s 1ms/step - loss: 80453648.0000 - val_loss: 81694648.0000\n",
      "Epoch 31/300\n",
      "37/37 [==============================] - 0s 1ms/step - loss: 79846016.0000 - val_loss: 81048544.0000\n",
      "Epoch 32/300\n",
      "37/37 [==============================] - 0s 1ms/step - loss: 79260456.0000 - val_loss: 80498456.0000\n",
      "Epoch 33/300\n",
      "37/37 [==============================] - 0s 1ms/step - loss: 78665648.0000 - val_loss: 79879880.0000\n",
      "Epoch 34/300\n",
      "37/37 [==============================] - 0s 1ms/step - loss: 78072464.0000 - val_loss: 79296696.0000\n",
      "Epoch 35/300\n",
      "37/37 [==============================] - 0s 1ms/step - loss: 77477296.0000 - val_loss: 78717680.0000\n",
      "Epoch 36/300\n",
      "37/37 [==============================] - 0s 1ms/step - loss: 76904784.0000 - val_loss: 78138536.0000\n",
      "Epoch 37/300\n",
      "37/37 [==============================] - 0s 1ms/step - loss: 76301784.0000 - val_loss: 77538216.0000\n",
      "Epoch 38/300\n",
      "37/37 [==============================] - 0s 1ms/step - loss: 75706672.0000 - val_loss: 76990848.0000\n",
      "Epoch 39/300\n",
      "37/37 [==============================] - 0s 1ms/step - loss: 75106552.0000 - val_loss: 76389528.0000\n",
      "Epoch 40/300\n",
      "37/37 [==============================] - 0s 1ms/step - loss: 74500080.0000 - val_loss: 75752896.0000\n",
      "Epoch 41/300\n",
      "37/37 [==============================] - 0s 1ms/step - loss: 73903472.0000 - val_loss: 75210536.0000\n",
      "Epoch 42/300\n",
      "37/37 [==============================] - 0s 1ms/step - loss: 73294632.0000 - val_loss: 74577960.0000\n",
      "Epoch 43/300\n",
      "37/37 [==============================] - 0s 1ms/step - loss: 72677688.0000 - val_loss: 73993400.0000\n",
      "Epoch 44/300\n",
      "37/37 [==============================] - 0s 1ms/step - loss: 72048736.0000 - val_loss: 73344944.0000\n",
      "Epoch 45/300\n",
      "37/37 [==============================] - 0s 1ms/step - loss: 71451440.0000 - val_loss: 72730824.0000\n",
      "Epoch 46/300\n",
      "37/37 [==============================] - 0s 1ms/step - loss: 70802184.0000 - val_loss: 72145280.0000\n",
      "Epoch 47/300\n",
      "37/37 [==============================] - 0s 1ms/step - loss: 70158904.0000 - val_loss: 71458712.0000\n",
      "Epoch 48/300\n",
      "37/37 [==============================] - 0s 1ms/step - loss: 69502632.0000 - val_loss: 70826232.0000\n",
      "Epoch 49/300\n",
      "37/37 [==============================] - 0s 1ms/step - loss: 68850928.0000 - val_loss: 70190688.0000\n",
      "Epoch 50/300\n",
      "37/37 [==============================] - 0s 1ms/step - loss: 68198264.0000 - val_loss: 69532080.0000\n",
      "Epoch 51/300\n",
      "37/37 [==============================] - 0s 1ms/step - loss: 67515816.0000 - val_loss: 68811280.0000\n",
      "Epoch 52/300\n",
      "37/37 [==============================] - 0s 1ms/step - loss: 66829856.0000 - val_loss: 68142000.0000\n",
      "Epoch 53/300\n",
      "37/37 [==============================] - 0s 1ms/step - loss: 66123616.0000 - val_loss: 67453680.0000\n",
      "Epoch 54/300\n",
      "37/37 [==============================] - 0s 1ms/step - loss: 65442568.0000 - val_loss: 66724296.0000\n",
      "Epoch 55/300\n",
      "37/37 [==============================] - 0s 1ms/step - loss: 64687516.0000 - val_loss: 66054704.0000\n",
      "Epoch 56/300\n",
      "37/37 [==============================] - 0s 1ms/step - loss: 63949936.0000 - val_loss: 65270168.0000\n",
      "Epoch 57/300\n",
      "37/37 [==============================] - 0s 1ms/step - loss: 63197128.0000 - val_loss: 64553860.0000\n",
      "Epoch 58/300\n",
      "37/37 [==============================] - 0s 1ms/step - loss: 62428092.0000 - val_loss: 63733276.0000\n",
      "Epoch 59/300\n",
      "37/37 [==============================] - 0s 1ms/step - loss: 61634936.0000 - val_loss: 62951916.0000\n",
      "Epoch 60/300\n",
      "37/37 [==============================] - 0s 1ms/step - loss: 60818704.0000 - val_loss: 62164996.0000\n",
      "Epoch 61/300\n",
      "37/37 [==============================] - 0s 1ms/step - loss: 59969784.0000 - val_loss: 61280188.0000\n",
      "Epoch 62/300\n",
      "37/37 [==============================] - 0s 1ms/step - loss: 59136152.0000 - val_loss: 60475376.0000\n",
      "Epoch 63/300\n",
      "37/37 [==============================] - 0s 1ms/step - loss: 58245676.0000 - val_loss: 59559236.0000\n",
      "Epoch 64/300\n",
      "37/37 [==============================] - 0s 1ms/step - loss: 57350032.0000 - val_loss: 58738116.0000\n",
      "Epoch 65/300\n",
      "37/37 [==============================] - 0s 1ms/step - loss: 56428160.0000 - val_loss: 57730956.0000\n",
      "Epoch 66/300\n",
      "37/37 [==============================] - 0s 1ms/step - loss: 55494720.0000 - val_loss: 56878584.0000\n",
      "Epoch 67/300\n",
      "37/37 [==============================] - 0s 1ms/step - loss: 54545676.0000 - val_loss: 55792284.0000\n",
      "Epoch 68/300\n",
      "37/37 [==============================] - 0s 2ms/step - loss: 53522020.0000 - val_loss: 54733256.0000\n",
      "Epoch 69/300\n",
      "37/37 [==============================] - 0s 2ms/step - loss: 52458568.0000 - val_loss: 53699472.0000\n",
      "Epoch 70/300\n",
      "37/37 [==============================] - 0s 2ms/step - loss: 51405432.0000 - val_loss: 52707268.0000\n",
      "Epoch 71/300\n",
      "37/37 [==============================] - 0s 1ms/step - loss: 50314168.0000 - val_loss: 51510028.0000\n",
      "Epoch 72/300\n"
     ]
    },
    {
     "name": "stdout",
     "output_type": "stream",
     "text": [
      "37/37 [==============================] - 0s 1ms/step - loss: 49203348.0000 - val_loss: 50347932.0000\n",
      "Epoch 73/300\n",
      "37/37 [==============================] - 0s 2ms/step - loss: 48042608.0000 - val_loss: 49189080.0000\n",
      "Epoch 74/300\n",
      "37/37 [==============================] - 0s 2ms/step - loss: 46853224.0000 - val_loss: 48171880.0000\n",
      "Epoch 75/300\n",
      "37/37 [==============================] - 0s 1ms/step - loss: 45748696.0000 - val_loss: 46915236.0000\n",
      "Epoch 76/300\n",
      "37/37 [==============================] - 0s 1ms/step - loss: 44547384.0000 - val_loss: 45586516.0000\n",
      "Epoch 77/300\n",
      "37/37 [==============================] - 0s 1ms/step - loss: 43332728.0000 - val_loss: 44387156.0000\n",
      "Epoch 78/300\n",
      "37/37 [==============================] - 0s 2ms/step - loss: 42130084.0000 - val_loss: 43159716.0000\n",
      "Epoch 79/300\n",
      "37/37 [==============================] - 0s 1ms/step - loss: 40929848.0000 - val_loss: 41935024.0000\n",
      "Epoch 80/300\n",
      "37/37 [==============================] - 0s 2ms/step - loss: 39745104.0000 - val_loss: 40742560.0000\n",
      "Epoch 81/300\n",
      "37/37 [==============================] - 0s 1ms/step - loss: 38596068.0000 - val_loss: 39543632.0000\n",
      "Epoch 82/300\n",
      "37/37 [==============================] - 0s 2ms/step - loss: 37426292.0000 - val_loss: 38337932.0000\n",
      "Epoch 83/300\n",
      "37/37 [==============================] - 0s 2ms/step - loss: 36321788.0000 - val_loss: 37215208.0000\n",
      "Epoch 84/300\n",
      "37/37 [==============================] - 0s 1ms/step - loss: 35249324.0000 - val_loss: 36077072.0000\n",
      "Epoch 85/300\n",
      "37/37 [==============================] - 0s 1ms/step - loss: 34209920.0000 - val_loss: 35101076.0000\n",
      "Epoch 86/300\n",
      "37/37 [==============================] - 0s 1ms/step - loss: 33238346.0000 - val_loss: 34065396.0000\n",
      "Epoch 87/300\n",
      "37/37 [==============================] - 0s 1ms/step - loss: 32297918.0000 - val_loss: 33152330.0000\n",
      "Epoch 88/300\n",
      "37/37 [==============================] - 0s 1ms/step - loss: 31473260.0000 - val_loss: 32316772.0000\n",
      "Epoch 89/300\n",
      "37/37 [==============================] - 0s 1ms/step - loss: 30614768.0000 - val_loss: 31389002.0000\n",
      "Epoch 90/300\n",
      "37/37 [==============================] - 0s 1ms/step - loss: 29782854.0000 - val_loss: 30598122.0000\n",
      "Epoch 91/300\n",
      "37/37 [==============================] - 0s 1ms/step - loss: 29010586.0000 - val_loss: 29857852.0000\n",
      "Epoch 92/300\n",
      "37/37 [==============================] - 0s 1ms/step - loss: 28284942.0000 - val_loss: 29266778.0000\n",
      "Epoch 93/300\n",
      "37/37 [==============================] - 0s 1ms/step - loss: 27650984.0000 - val_loss: 28508226.0000\n",
      "Epoch 94/300\n",
      "37/37 [==============================] - 0s 1ms/step - loss: 27065578.0000 - val_loss: 27904506.0000\n",
      "Epoch 95/300\n",
      "37/37 [==============================] - 0s 1ms/step - loss: 26462876.0000 - val_loss: 27380950.0000\n",
      "Epoch 96/300\n",
      "37/37 [==============================] - 0s 1ms/step - loss: 25964052.0000 - val_loss: 26856060.0000\n",
      "Epoch 97/300\n",
      "37/37 [==============================] - 0s 1ms/step - loss: 25539442.0000 - val_loss: 26421758.0000\n",
      "Epoch 98/300\n",
      "37/37 [==============================] - 0s 1ms/step - loss: 25063738.0000 - val_loss: 26043042.0000\n",
      "Epoch 99/300\n",
      "37/37 [==============================] - 0s 1ms/step - loss: 24713990.0000 - val_loss: 25704286.0000\n",
      "Epoch 100/300\n",
      "37/37 [==============================] - 0s 1ms/step - loss: 24404082.0000 - val_loss: 25411816.0000\n",
      "Epoch 101/300\n",
      "37/37 [==============================] - 0s 1ms/step - loss: 24117920.0000 - val_loss: 25221608.0000\n",
      "Epoch 102/300\n",
      "37/37 [==============================] - 0s 1ms/step - loss: 23888282.0000 - val_loss: 24935654.0000\n",
      "Epoch 103/300\n",
      "37/37 [==============================] - 0s 1ms/step - loss: 23672984.0000 - val_loss: 24753308.0000\n",
      "Epoch 104/300\n",
      "37/37 [==============================] - 0s 1ms/step - loss: 23490168.0000 - val_loss: 24585328.0000\n",
      "Epoch 105/300\n",
      "37/37 [==============================] - 0s 1ms/step - loss: 23308876.0000 - val_loss: 24441184.0000\n",
      "Epoch 106/300\n",
      "37/37 [==============================] - 0s 1ms/step - loss: 23251946.0000 - val_loss: 24502270.0000\n",
      "Epoch 107/300\n",
      "37/37 [==============================] - 0s 1ms/step - loss: 23063916.0000 - val_loss: 24143350.0000\n",
      "Epoch 108/300\n",
      "37/37 [==============================] - 0s 1ms/step - loss: 22894116.0000 - val_loss: 24031312.0000\n",
      "Epoch 109/300\n",
      "37/37 [==============================] - 0s 1ms/step - loss: 22765632.0000 - val_loss: 23896472.0000\n",
      "Epoch 110/300\n",
      "37/37 [==============================] - 0s 1ms/step - loss: 22641334.0000 - val_loss: 23801766.0000\n",
      "Epoch 111/300\n",
      "37/37 [==============================] - 0s 1ms/step - loss: 22538914.0000 - val_loss: 23679386.0000\n",
      "Epoch 112/300\n",
      "37/37 [==============================] - 0s 1ms/step - loss: 22430224.0000 - val_loss: 23606444.0000\n",
      "Epoch 113/300\n",
      "37/37 [==============================] - 0s 1ms/step - loss: 22401538.0000 - val_loss: 23489956.0000\n",
      "Epoch 114/300\n",
      "37/37 [==============================] - 0s 1ms/step - loss: 22264438.0000 - val_loss: 23439520.0000\n",
      "Epoch 115/300\n",
      "37/37 [==============================] - 0s 1ms/step - loss: 22176084.0000 - val_loss: 23327014.0000\n",
      "Epoch 116/300\n",
      "37/37 [==============================] - 0s 1ms/step - loss: 22087778.0000 - val_loss: 23243192.0000\n",
      "Epoch 117/300\n",
      "37/37 [==============================] - 0s 1ms/step - loss: 21999394.0000 - val_loss: 23232130.0000\n",
      "Epoch 118/300\n",
      "37/37 [==============================] - 0s 1ms/step - loss: 21930152.0000 - val_loss: 23119934.0000\n",
      "Epoch 119/300\n",
      "37/37 [==============================] - 0s 1ms/step - loss: 21911032.0000 - val_loss: 23057246.0000\n",
      "Epoch 120/300\n",
      "37/37 [==============================] - 0s 1ms/step - loss: 21777952.0000 - val_loss: 22951660.0000\n",
      "Epoch 121/300\n",
      "37/37 [==============================] - 0s 1ms/step - loss: 21697938.0000 - val_loss: 22894928.0000\n",
      "Epoch 122/300\n",
      "37/37 [==============================] - 0s 1ms/step - loss: 21625634.0000 - val_loss: 22818024.0000\n",
      "Epoch 123/300\n",
      "37/37 [==============================] - 0s 1ms/step - loss: 21559160.0000 - val_loss: 22816502.0000\n",
      "Epoch 124/300\n",
      "37/37 [==============================] - 0s 1ms/step - loss: 21506464.0000 - val_loss: 22763670.0000\n",
      "Epoch 125/300\n",
      "37/37 [==============================] - 0s 1ms/step - loss: 21450074.0000 - val_loss: 22624200.0000\n",
      "Epoch 126/300\n",
      "37/37 [==============================] - 0s 1ms/step - loss: 21371276.0000 - val_loss: 22592468.0000\n",
      "Epoch 127/300\n",
      "37/37 [==============================] - 0s 1ms/step - loss: 21344616.0000 - val_loss: 22499484.0000\n",
      "Epoch 128/300\n",
      "37/37 [==============================] - 0s 1ms/step - loss: 21233730.0000 - val_loss: 22474458.0000\n",
      "Epoch 129/300\n",
      "37/37 [==============================] - 0s 1ms/step - loss: 21188436.0000 - val_loss: 22383886.0000\n",
      "Epoch 130/300\n",
      "37/37 [==============================] - 0s 1ms/step - loss: 21129124.0000 - val_loss: 22335132.0000\n",
      "Epoch 131/300\n",
      "37/37 [==============================] - 0s 1ms/step - loss: 21070200.0000 - val_loss: 22286766.0000\n",
      "Epoch 132/300\n",
      "37/37 [==============================] - 0s 1ms/step - loss: 21014160.0000 - val_loss: 22247354.0000\n",
      "Epoch 133/300\n",
      "37/37 [==============================] - 0s 1ms/step - loss: 20964144.0000 - val_loss: 22192558.0000\n",
      "Epoch 134/300\n",
      "37/37 [==============================] - 0s 1ms/step - loss: 20923392.0000 - val_loss: 22167996.0000\n",
      "Epoch 135/300\n",
      "37/37 [==============================] - 0s 1ms/step - loss: 20876092.0000 - val_loss: 22117212.0000\n",
      "Epoch 136/300\n",
      "37/37 [==============================] - 0s 1ms/step - loss: 20813828.0000 - val_loss: 22068072.0000\n",
      "Epoch 137/300\n",
      "37/37 [==============================] - 0s 1ms/step - loss: 20740250.0000 - val_loss: 22071072.0000\n",
      "Epoch 138/300\n",
      "37/37 [==============================] - 0s 1ms/step - loss: 20729072.0000 - val_loss: 22069058.0000\n",
      "Epoch 139/300\n",
      "37/37 [==============================] - 0s 1ms/step - loss: 20712352.0000 - val_loss: 21963588.0000\n",
      "Epoch 140/300\n",
      "37/37 [==============================] - 0s 1ms/step - loss: 20618952.0000 - val_loss: 21932090.0000\n",
      "Epoch 141/300\n",
      "37/37 [==============================] - 0s 1ms/step - loss: 20578064.0000 - val_loss: 21892264.0000\n",
      "Epoch 142/300\n",
      "37/37 [==============================] - 0s 1ms/step - loss: 20585058.0000 - val_loss: 21965552.0000\n",
      "Epoch 143/300\n"
     ]
    },
    {
     "name": "stdout",
     "output_type": "stream",
     "text": [
      "37/37 [==============================] - 0s 1ms/step - loss: 20531418.0000 - val_loss: 21834470.0000\n",
      "Epoch 144/300\n",
      "37/37 [==============================] - 0s 1ms/step - loss: 20479172.0000 - val_loss: 21807518.0000\n",
      "Epoch 145/300\n",
      "37/37 [==============================] - 0s 1ms/step - loss: 20419100.0000 - val_loss: 21764992.0000\n",
      "Epoch 146/300\n",
      "37/37 [==============================] - 0s 1ms/step - loss: 20379868.0000 - val_loss: 21736524.0000\n",
      "Epoch 147/300\n",
      "37/37 [==============================] - 0s 1ms/step - loss: 20347186.0000 - val_loss: 21694890.0000\n",
      "Epoch 148/300\n",
      "37/37 [==============================] - 0s 1ms/step - loss: 20303358.0000 - val_loss: 21669702.0000\n",
      "Epoch 149/300\n",
      "37/37 [==============================] - 0s 1ms/step - loss: 20297454.0000 - val_loss: 21636136.0000\n",
      "Epoch 150/300\n",
      "37/37 [==============================] - 0s 1ms/step - loss: 20257712.0000 - val_loss: 21629362.0000\n",
      "Epoch 151/300\n",
      "37/37 [==============================] - 0s 1ms/step - loss: 20308492.0000 - val_loss: 21580874.0000\n",
      "Epoch 152/300\n",
      "37/37 [==============================] - 0s 1ms/step - loss: 20166864.0000 - val_loss: 21573162.0000\n",
      "Epoch 153/300\n",
      "37/37 [==============================] - 0s 1ms/step - loss: 20159150.0000 - val_loss: 21530042.0000\n",
      "Epoch 154/300\n",
      "37/37 [==============================] - 0s 1ms/step - loss: 20106022.0000 - val_loss: 21510476.0000\n",
      "Epoch 155/300\n",
      "37/37 [==============================] - 0s 1ms/step - loss: 20072830.0000 - val_loss: 21581146.0000\n",
      "Epoch 156/300\n",
      "37/37 [==============================] - 0s 1ms/step - loss: 20065864.0000 - val_loss: 21464888.0000\n",
      "Epoch 157/300\n",
      "37/37 [==============================] - 0s 1ms/step - loss: 20024414.0000 - val_loss: 21437616.0000\n",
      "Epoch 158/300\n",
      "37/37 [==============================] - 0s 1ms/step - loss: 19979976.0000 - val_loss: 21528106.0000\n",
      "Epoch 159/300\n",
      "37/37 [==============================] - ETA: 0s - loss: 15154525.00 - 0s 1ms/step - loss: 20000236.0000 - val_loss: 21410258.0000\n",
      "Epoch 160/300\n",
      "37/37 [==============================] - 0s 1ms/step - loss: 19946302.0000 - val_loss: 21379152.0000\n",
      "Epoch 161/300\n",
      "37/37 [==============================] - 0s 1ms/step - loss: 19911674.0000 - val_loss: 21358638.0000\n",
      "Epoch 162/300\n",
      "37/37 [==============================] - 0s 1ms/step - loss: 19909810.0000 - val_loss: 21379216.0000\n",
      "Epoch 163/300\n",
      "37/37 [==============================] - 0s 1ms/step - loss: 19890022.0000 - val_loss: 21422902.0000\n",
      "Epoch 164/300\n",
      "37/37 [==============================] - 0s 1ms/step - loss: 19908160.0000 - val_loss: 21336906.0000\n",
      "Epoch 165/300\n",
      "37/37 [==============================] - 0s 1ms/step - loss: 19807154.0000 - val_loss: 21268954.0000\n",
      "Epoch 166/300\n",
      "37/37 [==============================] - 0s 1ms/step - loss: 19786454.0000 - val_loss: 21248276.0000\n",
      "Epoch 167/300\n",
      "37/37 [==============================] - 0s 1ms/step - loss: 19808686.0000 - val_loss: 21375142.0000\n",
      "Epoch 168/300\n",
      "37/37 [==============================] - 0s 1ms/step - loss: 19772942.0000 - val_loss: 21238580.0000\n",
      "Epoch 169/300\n",
      "37/37 [==============================] - 0s 1ms/step - loss: 19691662.0000 - val_loss: 21192456.0000\n",
      "Epoch 170/300\n",
      "37/37 [==============================] - 0s 1ms/step - loss: 19676946.0000 - val_loss: 21187602.0000\n",
      "Epoch 171/300\n",
      "37/37 [==============================] - 0s 1ms/step - loss: 19633974.0000 - val_loss: 21170738.0000\n",
      "Epoch 172/300\n",
      "37/37 [==============================] - 0s 1ms/step - loss: 19618902.0000 - val_loss: 21121304.0000\n",
      "Epoch 173/300\n",
      "37/37 [==============================] - ETA: 0s - loss: 17648842.00 - 0s 1ms/step - loss: 19583302.0000 - val_loss: 21119692.0000\n",
      "Epoch 174/300\n",
      "37/37 [==============================] - 0s 1ms/step - loss: 19565714.0000 - val_loss: 21152772.0000\n",
      "Epoch 175/300\n",
      "37/37 [==============================] - 0s 1ms/step - loss: 19553636.0000 - val_loss: 21073666.0000\n",
      "Epoch 176/300\n",
      "37/37 [==============================] - 0s 1ms/step - loss: 19505578.0000 - val_loss: 21048568.0000\n",
      "Epoch 177/300\n",
      "37/37 [==============================] - 0s 1ms/step - loss: 19491956.0000 - val_loss: 21034784.0000\n",
      "Epoch 178/300\n",
      "37/37 [==============================] - 0s 1ms/step - loss: 19469940.0000 - val_loss: 21036150.0000\n",
      "Epoch 179/300\n",
      "37/37 [==============================] - 0s 1ms/step - loss: 19434864.0000 - val_loss: 20993414.0000\n",
      "Epoch 180/300\n",
      "37/37 [==============================] - 0s 1ms/step - loss: 19430320.0000 - val_loss: 20981064.0000\n",
      "Epoch 181/300\n",
      "37/37 [==============================] - 0s 1ms/step - loss: 19408826.0000 - val_loss: 20968540.0000\n",
      "Epoch 182/300\n",
      "37/37 [==============================] - 0s 1ms/step - loss: 19410740.0000 - val_loss: 20925590.0000\n",
      "Epoch 183/300\n",
      "37/37 [==============================] - 0s 1ms/step - loss: 19402606.0000 - val_loss: 20929318.0000\n",
      "Epoch 184/300\n",
      "37/37 [==============================] - 0s 1ms/step - loss: 19341128.0000 - val_loss: 20898588.0000\n",
      "Epoch 185/300\n",
      "37/37 [==============================] - 0s 1ms/step - loss: 19358928.0000 - val_loss: 20907932.0000\n",
      "Epoch 186/300\n",
      "37/37 [==============================] - 0s 1ms/step - loss: 19330428.0000 - val_loss: 20875946.0000\n",
      "Epoch 187/300\n",
      "37/37 [==============================] - 0s 1ms/step - loss: 19306312.0000 - val_loss: 20879896.0000\n",
      "Epoch 188/300\n",
      "37/37 [==============================] - 0s 1ms/step - loss: 19302962.0000 - val_loss: 20884636.0000\n",
      "Epoch 189/300\n",
      "37/37 [==============================] - 0s 1ms/step - loss: 19297640.0000 - val_loss: 20876732.0000\n",
      "Epoch 190/300\n",
      "37/37 [==============================] - 0s 1ms/step - loss: 19277890.0000 - val_loss: 20834820.0000\n",
      "Epoch 191/300\n",
      "37/37 [==============================] - 0s 1ms/step - loss: 19245710.0000 - val_loss: 20806374.0000\n",
      "Epoch 192/300\n",
      "37/37 [==============================] - 0s 1ms/step - loss: 19228700.0000 - val_loss: 20803396.0000\n",
      "Epoch 193/300\n",
      "37/37 [==============================] - 0s 1ms/step - loss: 19236668.0000 - val_loss: 20791106.0000\n",
      "Epoch 194/300\n",
      "37/37 [==============================] - 0s 1ms/step - loss: 19213084.0000 - val_loss: 20768804.0000\n",
      "Epoch 195/300\n",
      "37/37 [==============================] - 0s 1ms/step - loss: 19193452.0000 - val_loss: 20713950.0000\n",
      "Epoch 196/300\n",
      "37/37 [==============================] - 0s 1ms/step - loss: 19168348.0000 - val_loss: 20698336.0000\n",
      "Epoch 197/300\n",
      "37/37 [==============================] - 0s 1ms/step - loss: 19167736.0000 - val_loss: 20704806.0000\n",
      "Epoch 198/300\n",
      "37/37 [==============================] - 0s 1ms/step - loss: 19131370.0000 - val_loss: 20689974.0000\n",
      "Epoch 199/300\n",
      "37/37 [==============================] - 0s 1ms/step - loss: 19137688.0000 - val_loss: 20660092.0000\n",
      "Epoch 200/300\n",
      "37/37 [==============================] - 0s 1ms/step - loss: 19135422.0000 - val_loss: 20664952.0000\n",
      "Epoch 201/300\n",
      "37/37 [==============================] - 0s 1ms/step - loss: 19154742.0000 - val_loss: 20636430.0000\n",
      "Epoch 202/300\n",
      "37/37 [==============================] - 0s 1ms/step - loss: 19085242.0000 - val_loss: 20613750.0000\n",
      "Epoch 203/300\n",
      "37/37 [==============================] - 0s 1ms/step - loss: 19070766.0000 - val_loss: 20663210.0000\n",
      "Epoch 204/300\n",
      "37/37 [==============================] - 0s 1ms/step - loss: 19068868.0000 - val_loss: 20654670.0000\n",
      "Epoch 205/300\n",
      "37/37 [==============================] - 0s 1ms/step - loss: 19066318.0000 - val_loss: 20584094.0000\n",
      "Epoch 206/300\n",
      "37/37 [==============================] - 0s 1ms/step - loss: 19026108.0000 - val_loss: 20610462.0000\n",
      "Epoch 207/300\n",
      "37/37 [==============================] - 0s 1ms/step - loss: 19027508.0000 - val_loss: 20545678.0000\n",
      "Epoch 208/300\n",
      "37/37 [==============================] - 0s 1ms/step - loss: 19012792.0000 - val_loss: 20551984.0000\n",
      "Epoch 209/300\n",
      "37/37 [==============================] - 0s 1ms/step - loss: 19059926.0000 - val_loss: 20530880.0000\n",
      "Epoch 210/300\n",
      "37/37 [==============================] - 0s 1ms/step - loss: 19026042.0000 - val_loss: 20516262.0000\n",
      "Epoch 211/300\n",
      "37/37 [==============================] - 0s 1ms/step - loss: 18982170.0000 - val_loss: 20488296.0000\n",
      "Epoch 212/300\n",
      "37/37 [==============================] - 0s 1ms/step - loss: 18963100.0000 - val_loss: 20489102.0000\n",
      "Epoch 213/300\n",
      "37/37 [==============================] - 0s 1ms/step - loss: 18944558.0000 - val_loss: 20478172.0000\n"
     ]
    },
    {
     "name": "stdout",
     "output_type": "stream",
     "text": [
      "Epoch 214/300\n",
      "37/37 [==============================] - 0s 1ms/step - loss: 18938406.0000 - val_loss: 20525874.0000\n",
      "Epoch 215/300\n",
      "37/37 [==============================] - 0s 1ms/step - loss: 18912804.0000 - val_loss: 20439642.0000\n",
      "Epoch 216/300\n",
      "37/37 [==============================] - 0s 1ms/step - loss: 18909682.0000 - val_loss: 20475884.0000\n",
      "Epoch 217/300\n",
      "37/37 [==============================] - ETA: 0s - loss: 21006090.00 - 0s 1ms/step - loss: 18903560.0000 - val_loss: 20428220.0000\n",
      "Epoch 218/300\n",
      "37/37 [==============================] - 0s 1ms/step - loss: 18917552.0000 - val_loss: 20431872.0000\n",
      "Epoch 219/300\n",
      "37/37 [==============================] - 0s 1ms/step - loss: 18890944.0000 - val_loss: 20451846.0000\n",
      "Epoch 220/300\n",
      "37/37 [==============================] - 0s 1ms/step - loss: 18869392.0000 - val_loss: 20372892.0000\n",
      "Epoch 221/300\n",
      "37/37 [==============================] - 0s 1ms/step - loss: 18854078.0000 - val_loss: 20383048.0000\n",
      "Epoch 222/300\n",
      "37/37 [==============================] - 0s 1ms/step - loss: 18869986.0000 - val_loss: 20357658.0000\n",
      "Epoch 223/300\n",
      "37/37 [==============================] - 0s 1ms/step - loss: 18898528.0000 - val_loss: 20338672.0000\n",
      "Epoch 224/300\n",
      "37/37 [==============================] - 0s 1ms/step - loss: 18852230.0000 - val_loss: 20318324.0000\n",
      "Epoch 225/300\n",
      "37/37 [==============================] - 0s 1ms/step - loss: 18808184.0000 - val_loss: 20311408.0000\n",
      "Epoch 226/300\n",
      "37/37 [==============================] - 0s 1ms/step - loss: 18813026.0000 - val_loss: 20297846.0000\n",
      "Epoch 227/300\n",
      "37/37 [==============================] - ETA: 0s - loss: 17530030.00 - 0s 1ms/step - loss: 18775536.0000 - val_loss: 20391266.0000\n",
      "Epoch 228/300\n",
      "37/37 [==============================] - 0s 1ms/step - loss: 18806228.0000 - val_loss: 20279240.0000\n",
      "Epoch 229/300\n",
      "37/37 [==============================] - 0s 1ms/step - loss: 18770862.0000 - val_loss: 20252886.0000\n",
      "Epoch 230/300\n",
      "37/37 [==============================] - 0s 1ms/step - loss: 18774596.0000 - val_loss: 20280050.0000\n",
      "Epoch 231/300\n",
      "37/37 [==============================] - 0s 1ms/step - loss: 18843470.0000 - val_loss: 20257876.0000\n",
      "Epoch 232/300\n",
      "37/37 [==============================] - 0s 1ms/step - loss: 18747812.0000 - val_loss: 20212506.0000\n",
      "Epoch 233/300\n",
      "37/37 [==============================] - 0s 1ms/step - loss: 18731616.0000 - val_loss: 20194550.0000\n",
      "Epoch 234/300\n",
      "37/37 [==============================] - 0s 1ms/step - loss: 18713996.0000 - val_loss: 20199428.0000\n",
      "Epoch 235/300\n",
      "37/37 [==============================] - 0s 1ms/step - loss: 18707096.0000 - val_loss: 20185334.0000\n",
      "Epoch 236/300\n",
      "37/37 [==============================] - 0s 1ms/step - loss: 18766274.0000 - val_loss: 20273230.0000\n",
      "Epoch 237/300\n",
      "37/37 [==============================] - 0s 1ms/step - loss: 18683226.0000 - val_loss: 20151426.0000\n",
      "Epoch 238/300\n",
      "37/37 [==============================] - 0s 1ms/step - loss: 18672314.0000 - val_loss: 20166202.0000\n",
      "Epoch 239/300\n",
      "37/37 [==============================] - 0s 1ms/step - loss: 18673610.0000 - val_loss: 20126384.0000\n",
      "Epoch 240/300\n",
      "37/37 [==============================] - 0s 1ms/step - loss: 18665102.0000 - val_loss: 20113758.0000\n",
      "Epoch 241/300\n",
      "37/37 [==============================] - 0s 1ms/step - loss: 18634758.0000 - val_loss: 20117358.0000\n",
      "Epoch 242/300\n",
      "37/37 [==============================] - 0s 1ms/step - loss: 18622550.0000 - val_loss: 20188372.0000\n",
      "Epoch 243/300\n",
      "37/37 [==============================] - 0s 2ms/step - loss: 18731330.0000 - val_loss: 20102360.0000\n",
      "Epoch 244/300\n",
      "37/37 [==============================] - 0s 3ms/step - loss: 18622740.0000 - val_loss: 20099182.0000\n",
      "Epoch 245/300\n",
      "37/37 [==============================] - 0s 3ms/step - loss: 18619290.0000 - val_loss: 20069086.0000\n",
      "Epoch 246/300\n",
      "37/37 [==============================] - 0s 3ms/step - loss: 18604844.0000 - val_loss: 20054362.0000\n",
      "Epoch 247/300\n",
      "37/37 [==============================] - 0s 3ms/step - loss: 18585550.0000 - val_loss: 20087626.0000\n",
      "Epoch 248/300\n",
      "37/37 [==============================] - 0s 3ms/step - loss: 18568042.0000 - val_loss: 20145182.0000\n",
      "Epoch 249/300\n",
      "37/37 [==============================] - 0s 3ms/step - loss: 18626082.0000 - val_loss: 20050548.0000\n",
      "Epoch 250/300\n",
      "37/37 [==============================] - 0s 3ms/step - loss: 18578276.0000 - val_loss: 20225256.0000\n",
      "Epoch 251/300\n",
      "37/37 [==============================] - 0s 3ms/step - loss: 18594484.0000 - val_loss: 20028640.0000\n",
      "Epoch 252/300\n",
      "37/37 [==============================] - 0s 3ms/step - loss: 18592742.0000 - val_loss: 20022818.0000\n",
      "Epoch 253/300\n",
      "37/37 [==============================] - 0s 3ms/step - loss: 18541836.0000 - val_loss: 19989100.0000\n",
      "Epoch 254/300\n",
      "37/37 [==============================] - 0s 3ms/step - loss: 18532890.0000 - val_loss: 20077288.0000\n",
      "Epoch 255/300\n",
      "37/37 [==============================] - 0s 3ms/step - loss: 18509034.0000 - val_loss: 20014984.0000\n",
      "Epoch 256/300\n",
      "37/37 [==============================] - 0s 3ms/step - loss: 18501352.0000 - val_loss: 19963046.0000\n",
      "Epoch 257/300\n",
      "37/37 [==============================] - 0s 3ms/step - loss: 18503582.0000 - val_loss: 19961316.0000\n",
      "Epoch 258/300\n",
      "37/37 [==============================] - 0s 3ms/step - loss: 18490968.0000 - val_loss: 19978288.0000\n",
      "Epoch 259/300\n",
      "37/37 [==============================] - 0s 3ms/step - loss: 18476082.0000 - val_loss: 19935880.0000\n",
      "Epoch 260/300\n",
      "37/37 [==============================] - 0s 3ms/step - loss: 18476310.0000 - val_loss: 19965916.0000\n",
      "Epoch 261/300\n",
      "37/37 [==============================] - 0s 3ms/step - loss: 18460334.0000 - val_loss: 19922582.0000\n",
      "Epoch 262/300\n",
      "37/37 [==============================] - 0s 3ms/step - loss: 18456180.0000 - val_loss: 19924404.0000\n",
      "Epoch 263/300\n",
      "37/37 [==============================] - 0s 3ms/step - loss: 18478104.0000 - val_loss: 19907846.0000\n",
      "Epoch 264/300\n",
      "37/37 [==============================] - 0s 2ms/step - loss: 18432190.0000 - val_loss: 19918408.0000\n",
      "Epoch 265/300\n",
      "37/37 [==============================] - 0s 1ms/step - loss: 18419804.0000 - val_loss: 19886258.0000\n",
      "Epoch 266/300\n",
      "37/37 [==============================] - 0s 1ms/step - loss: 18492584.0000 - val_loss: 19899616.0000\n",
      "Epoch 267/300\n",
      "37/37 [==============================] - 0s 1ms/step - loss: 18431936.0000 - val_loss: 19893036.0000\n",
      "Epoch 268/300\n",
      "37/37 [==============================] - 0s 1ms/step - loss: 18395524.0000 - val_loss: 19927464.0000\n",
      "Epoch 269/300\n",
      "37/37 [==============================] - 0s 1ms/step - loss: 18435054.0000 - val_loss: 19907374.0000\n",
      "Epoch 270/300\n",
      "37/37 [==============================] - 0s 1ms/step - loss: 18417776.0000 - val_loss: 19879178.0000\n",
      "Epoch 271/300\n",
      "37/37 [==============================] - 0s 1ms/step - loss: 18426262.0000 - val_loss: 19859718.0000\n",
      "Epoch 272/300\n",
      "37/37 [==============================] - 0s 1ms/step - loss: 18385006.0000 - val_loss: 19893360.0000\n",
      "Epoch 273/300\n",
      "37/37 [==============================] - 0s 1ms/step - loss: 18427358.0000 - val_loss: 19830438.0000\n",
      "Epoch 274/300\n",
      "37/37 [==============================] - 0s 1ms/step - loss: 18360052.0000 - val_loss: 19831990.0000\n",
      "Epoch 275/300\n",
      "37/37 [==============================] - 0s 1ms/step - loss: 18366910.0000 - val_loss: 19829438.0000\n",
      "Epoch 276/300\n",
      "37/37 [==============================] - 0s 1ms/step - loss: 18344926.0000 - val_loss: 19809216.0000\n",
      "Epoch 277/300\n",
      "37/37 [==============================] - 0s 1ms/step - loss: 18346480.0000 - val_loss: 19812654.0000\n",
      "Epoch 278/300\n",
      "37/37 [==============================] - 0s 1ms/step - loss: 18334584.0000 - val_loss: 19799902.0000\n",
      "Epoch 279/300\n",
      "37/37 [==============================] - 0s 1ms/step - loss: 18348166.0000 - val_loss: 19829174.0000\n",
      "Epoch 280/300\n",
      "37/37 [==============================] - 0s 2ms/step - loss: 18349904.0000 - val_loss: 19791342.0000\n",
      "Epoch 281/300\n",
      "37/37 [==============================] - 0s 1ms/step - loss: 18320770.0000 - val_loss: 19782970.0000\n",
      "Epoch 282/300\n",
      "37/37 [==============================] - 0s 1ms/step - loss: 18332224.0000 - val_loss: 19763820.0000\n",
      "Epoch 283/300\n",
      "37/37 [==============================] - 0s 1ms/step - loss: 18323288.0000 - val_loss: 19759988.0000\n",
      "Epoch 284/300\n"
     ]
    },
    {
     "name": "stdout",
     "output_type": "stream",
     "text": [
      "37/37 [==============================] - 0s 1ms/step - loss: 18322702.0000 - val_loss: 19831408.0000\n",
      "Epoch 285/300\n",
      "37/37 [==============================] - 0s 1ms/step - loss: 18366442.0000 - val_loss: 19749454.0000\n",
      "Epoch 286/300\n",
      "37/37 [==============================] - 0s 1ms/step - loss: 18298888.0000 - val_loss: 19802312.0000\n",
      "Epoch 287/300\n",
      "37/37 [==============================] - 0s 1ms/step - loss: 18292756.0000 - val_loss: 19762532.0000\n",
      "Epoch 288/300\n",
      "37/37 [==============================] - 0s 1ms/step - loss: 18302712.0000 - val_loss: 19809734.0000\n",
      "Epoch 289/300\n",
      "37/37 [==============================] - 0s 1ms/step - loss: 18284740.0000 - val_loss: 19727648.0000\n",
      "Epoch 290/300\n",
      "37/37 [==============================] - 0s 1ms/step - loss: 18284864.0000 - val_loss: 19746768.0000\n",
      "Epoch 291/300\n",
      "37/37 [==============================] - 0s 1ms/step - loss: 18276382.0000 - val_loss: 19722910.0000\n",
      "Epoch 292/300\n",
      "37/37 [==============================] - 0s 1ms/step - loss: 18293754.0000 - val_loss: 19787950.0000\n",
      "Epoch 293/300\n",
      "37/37 [==============================] - 0s 1ms/step - loss: 18280612.0000 - val_loss: 19818740.0000\n",
      "Epoch 294/300\n",
      "37/37 [==============================] - ETA: 0s - loss: 15925286.00 - 0s 1ms/step - loss: 18275774.0000 - val_loss: 19718094.0000\n",
      "Epoch 295/300\n",
      "37/37 [==============================] - 0s 1ms/step - loss: 18267122.0000 - val_loss: 19697874.0000\n",
      "Epoch 296/300\n",
      "37/37 [==============================] - 0s 1ms/step - loss: 18276332.0000 - val_loss: 19722114.0000\n",
      "Epoch 297/300\n",
      "37/37 [==============================] - 0s 1ms/step - loss: 18261756.0000 - val_loss: 19709546.0000\n",
      "Epoch 298/300\n",
      "37/37 [==============================] - 0s 1ms/step - loss: 18239490.0000 - val_loss: 19740014.0000\n",
      "Epoch 299/300\n",
      "37/37 [==============================] - 0s 1ms/step - loss: 18262814.0000 - val_loss: 19678926.0000\n",
      "Epoch 300/300\n",
      "37/37 [==============================] - 0s 1ms/step - loss: 18262946.0000 - val_loss: 19668000.0000\n"
     ]
    },
    {
     "data": {
      "text/plain": [
       "<tensorflow.python.keras.callbacks.History at 0x1c5383c3f40>"
      ]
     },
     "execution_count": 62,
     "metadata": {},
     "output_type": "execute_result"
    }
   ],
   "source": [
    "model.fit(x=x_train, y=y_train, validation_data=(x_test,y_test), batch_size=250,epochs=300)"
   ]
  },
  {
   "cell_type": "code",
   "execution_count": 63,
   "id": "framed-emerald",
   "metadata": {},
   "outputs": [],
   "source": [
    "kayip=pd.DataFrame(model.history.history)"
   ]
  },
  {
   "cell_type": "code",
   "execution_count": 64,
   "id": "sticky-norfolk",
   "metadata": {},
   "outputs": [
    {
     "data": {
      "text/html": [
       "<div>\n",
       "<style scoped>\n",
       "    .dataframe tbody tr th:only-of-type {\n",
       "        vertical-align: middle;\n",
       "    }\n",
       "\n",
       "    .dataframe tbody tr th {\n",
       "        vertical-align: top;\n",
       "    }\n",
       "\n",
       "    .dataframe thead th {\n",
       "        text-align: right;\n",
       "    }\n",
       "</style>\n",
       "<table border=\"1\" class=\"dataframe\">\n",
       "  <thead>\n",
       "    <tr style=\"text-align: right;\">\n",
       "      <th></th>\n",
       "      <th>loss</th>\n",
       "      <th>val_loss</th>\n",
       "    </tr>\n",
       "  </thead>\n",
       "  <tbody>\n",
       "    <tr>\n",
       "      <th>0</th>\n",
       "      <td>672145600.0</td>\n",
       "      <td>688104128.0</td>\n",
       "    </tr>\n",
       "    <tr>\n",
       "      <th>1</th>\n",
       "      <td>672121600.0</td>\n",
       "      <td>688054848.0</td>\n",
       "    </tr>\n",
       "    <tr>\n",
       "      <th>2</th>\n",
       "      <td>672009216.0</td>\n",
       "      <td>687828608.0</td>\n",
       "    </tr>\n",
       "    <tr>\n",
       "      <th>3</th>\n",
       "      <td>671540608.0</td>\n",
       "      <td>686937024.0</td>\n",
       "    </tr>\n",
       "    <tr>\n",
       "      <th>4</th>\n",
       "      <td>669795136.0</td>\n",
       "      <td>683766720.0</td>\n",
       "    </tr>\n",
       "  </tbody>\n",
       "</table>\n",
       "</div>"
      ],
      "text/plain": [
       "          loss     val_loss\n",
       "0  672145600.0  688104128.0\n",
       "1  672121600.0  688054848.0\n",
       "2  672009216.0  687828608.0\n",
       "3  671540608.0  686937024.0\n",
       "4  669795136.0  683766720.0"
      ]
     },
     "execution_count": 64,
     "metadata": {},
     "output_type": "execute_result"
    }
   ],
   "source": [
    "kayip.head()"
   ]
  },
  {
   "cell_type": "markdown",
   "id": "anonymous-going",
   "metadata": {},
   "source": [
    "Loss ve Validation Loss birlikte azalarak hareket ediyor mu? Bunun için grafik çizilebilir."
   ]
  },
  {
   "cell_type": "code",
   "execution_count": 65,
   "id": "documented-cinema",
   "metadata": {},
   "outputs": [
    {
     "data": {
      "text/plain": [
       "<AxesSubplot:>"
      ]
     },
     "execution_count": 65,
     "metadata": {},
     "output_type": "execute_result"
    },
    {
     "data": {
      "image/png": "[encoded data removed]",
      "text/plain": [
       "<Figure size 432x288 with 1 Axes>"
      ]
     },
     "metadata": {
      "needs_background": "light"
     },
     "output_type": "display_data"
    }
   ],
   "source": [
    "kayip.plot()"
   ]
  },
  {
   "cell_type": "code",
   "execution_count": 66,
   "id": "employed-bahrain",
   "metadata": {},
   "outputs": [],
   "source": [
    "from sklearn.metrics import mean_squared_error, mean_absolute_error"
   ]
  },
  {
   "cell_type": "code",
   "execution_count": 67,
   "id": "closing-banks",
   "metadata": {},
   "outputs": [],
   "source": [
    "tahminDizisi=model.predict(x_test)"
   ]
  },
  {
   "cell_type": "markdown",
   "id": "eleven-clothing",
   "metadata": {},
   "source": [
    "Tahmin dizisi ile y test arasındaki absolute farka bakılır."
   ]
  },
  {
   "cell_type": "code",
   "execution_count": 69,
   "id": "conditional-following",
   "metadata": {},
   "outputs": [
    {
     "data": {
      "text/plain": [
       "3153.360273690599"
      ]
     },
     "execution_count": 69,
     "metadata": {},
     "output_type": "execute_result"
    }
   ],
   "source": [
    "mean_absolute_error(y_test,tahminDizisi)"
   ]
  },
  {
   "cell_type": "markdown",
   "id": "polyphonic-partner",
   "metadata": {},
   "source": [
    "Dataframe özelliğinden priceın ortalama değerine bakılır. Mean absolute değeri(3153 para birimi) ortalama değerden(24074 para birimi) ne kadar sapabilir."
   ]
  },
  {
   "cell_type": "code",
   "execution_count": 44,
   "id": "addressed-association",
   "metadata": {},
   "outputs": [
    {
     "data": {
      "text/html": [
       "<div>\n",
       "<style scoped>\n",
       "    .dataframe tbody tr th:only-of-type {\n",
       "        vertical-align: middle;\n",
       "    }\n",
       "\n",
       "    .dataframe tbody tr th {\n",
       "        vertical-align: top;\n",
       "    }\n",
       "\n",
       "    .dataframe thead th {\n",
       "        text-align: right;\n",
       "    }\n",
       "</style>\n",
       "<table border=\"1\" class=\"dataframe\">\n",
       "  <thead>\n",
       "    <tr style=\"text-align: right;\">\n",
       "      <th></th>\n",
       "      <th>year</th>\n",
       "      <th>price</th>\n",
       "      <th>mileage</th>\n",
       "      <th>tax</th>\n",
       "      <th>mpg</th>\n",
       "      <th>engineSize</th>\n",
       "    </tr>\n",
       "  </thead>\n",
       "  <tbody>\n",
       "    <tr>\n",
       "      <th>count</th>\n",
       "      <td>12987.000000</td>\n",
       "      <td>12987.000000</td>\n",
       "      <td>12987.000000</td>\n",
       "      <td>12987.000000</td>\n",
       "      <td>12987.000000</td>\n",
       "      <td>12987.000000</td>\n",
       "    </tr>\n",
       "    <tr>\n",
       "      <th>mean</th>\n",
       "      <td>2017.285516</td>\n",
       "      <td>24074.855779</td>\n",
       "      <td>22133.367367</td>\n",
       "      <td>129.676215</td>\n",
       "      <td>55.438392</td>\n",
       "      <td>2.051059</td>\n",
       "    </tr>\n",
       "    <tr>\n",
       "      <th>std</th>\n",
       "      <td>2.189633</td>\n",
       "      <td>9866.601115</td>\n",
       "      <td>21197.472376</td>\n",
       "      <td>65.167429</td>\n",
       "      <td>15.025902</td>\n",
       "      <td>0.532313</td>\n",
       "    </tr>\n",
       "    <tr>\n",
       "      <th>min</th>\n",
       "      <td>1997.000000</td>\n",
       "      <td>650.000000</td>\n",
       "      <td>1.000000</td>\n",
       "      <td>0.000000</td>\n",
       "      <td>1.100000</td>\n",
       "      <td>0.000000</td>\n",
       "    </tr>\n",
       "    <tr>\n",
       "      <th>25%</th>\n",
       "      <td>2016.000000</td>\n",
       "      <td>17355.000000</td>\n",
       "      <td>6320.000000</td>\n",
       "      <td>125.000000</td>\n",
       "      <td>45.600000</td>\n",
       "      <td>1.700000</td>\n",
       "    </tr>\n",
       "    <tr>\n",
       "      <th>50%</th>\n",
       "      <td>2018.000000</td>\n",
       "      <td>22299.000000</td>\n",
       "      <td>15371.000000</td>\n",
       "      <td>145.000000</td>\n",
       "      <td>56.500000</td>\n",
       "      <td>2.000000</td>\n",
       "    </tr>\n",
       "    <tr>\n",
       "      <th>75%</th>\n",
       "      <td>2019.000000</td>\n",
       "      <td>28706.000000</td>\n",
       "      <td>31986.500000</td>\n",
       "      <td>145.000000</td>\n",
       "      <td>64.200000</td>\n",
       "      <td>2.100000</td>\n",
       "    </tr>\n",
       "    <tr>\n",
       "      <th>max</th>\n",
       "      <td>2020.000000</td>\n",
       "      <td>65990.000000</td>\n",
       "      <td>259000.000000</td>\n",
       "      <td>580.000000</td>\n",
       "      <td>217.300000</td>\n",
       "      <td>6.200000</td>\n",
       "    </tr>\n",
       "  </tbody>\n",
       "</table>\n",
       "</div>"
      ],
      "text/plain": [
       "               year         price        mileage           tax           mpg  \\\n",
       "count  12987.000000  12987.000000   12987.000000  12987.000000  12987.000000   \n",
       "mean    2017.285516  24074.855779   22133.367367    129.676215     55.438392   \n",
       "std        2.189633   9866.601115   21197.472376     65.167429     15.025902   \n",
       "min     1997.000000    650.000000       1.000000      0.000000      1.100000   \n",
       "25%     2016.000000  17355.000000    6320.000000    125.000000     45.600000   \n",
       "50%     2018.000000  22299.000000   15371.000000    145.000000     56.500000   \n",
       "75%     2019.000000  28706.000000   31986.500000    145.000000     64.200000   \n",
       "max     2020.000000  65990.000000  259000.000000    580.000000    217.300000   \n",
       "\n",
       "         engineSize  \n",
       "count  12987.000000  \n",
       "mean       2.051059  \n",
       "std        0.532313  \n",
       "min        0.000000  \n",
       "25%        1.700000  \n",
       "50%        2.000000  \n",
       "75%        2.100000  \n",
       "max        6.200000  "
      ]
     },
     "execution_count": 44,
     "metadata": {},
     "output_type": "execute_result"
    }
   ],
   "source": [
    "dataFrame.describe()"
   ]
  },
  {
   "cell_type": "markdown",
   "id": "reasonable-stupid",
   "metadata": {},
   "source": [
    "Aşağıdaki grafikte linear regression görülmekte fakat küçük sapmalar mevcut eğer dilerseniz bu sapmalar için gerekli düzenlemeler yapabilirsiniz.(Epoch sayısı arttırma gibi)"
   ]
  },
  {
   "cell_type": "code",
   "execution_count": 70,
   "id": "worst-horizon",
   "metadata": {},
   "outputs": [
    {
     "data": {
      "text/plain": [
       "[<matplotlib.lines.Line2D at 0x1c539c7a5b0>]"
      ]
     },
     "execution_count": 70,
     "metadata": {},
     "output_type": "execute_result"
    },
    {
     "data": {
      "image/png": "[encoded data removed]",
      "text/plain": [
       "<Figure size 432x288 with 1 Axes>"
      ]
     },
     "metadata": {
      "needs_background": "light"
     },
     "output_type": "display_data"
    }
   ],
   "source": [
    "plt.scatter(y_test,tahminDizisi)\n",
    "plt.plot(y_test,y_test,\"g-*\")"
   ]
  },
  {
   "cell_type": "markdown",
   "id": "angry-reward",
   "metadata": {},
   "source": [
    "3. Elemanın fiyatına bakalım."
   ]
  },
  {
   "cell_type": "code",
   "execution_count": 71,
   "id": "palestinian-athens",
   "metadata": {},
   "outputs": [
    {
     "data": {
      "text/plain": [
       "year           2020.0\n",
       "price         65980.0\n",
       "mileage        3999.0\n",
       "tax             145.0\n",
       "mpg              28.0\n",
       "engineSize        4.0\n",
       "Name: 3191, dtype: float64"
      ]
     },
     "execution_count": 71,
     "metadata": {},
     "output_type": "execute_result"
    }
   ],
   "source": [
    "dataFrame.iloc[2]"
   ]
  },
  {
   "cell_type": "markdown",
   "id": "comparable-medicare",
   "metadata": {},
   "source": [
    "3. elemanı çıkartarak yeni bir veri serisi oluşturalım."
   ]
  },
  {
   "cell_type": "code",
   "execution_count": 73,
   "id": "overall-cycling",
   "metadata": {},
   "outputs": [],
   "source": [
    "yeniArabaSeries=dataFrame.drop(\"price\", axis=1).iloc[2]"
   ]
  },
  {
   "cell_type": "markdown",
   "id": "southwest-mattress",
   "metadata": {},
   "source": [
    "Yeni veri serisini ölçeklendirelim."
   ]
  },
  {
   "cell_type": "code",
   "execution_count": 74,
   "id": "wanted-winter",
   "metadata": {},
   "outputs": [],
   "source": [
    "yeniArabaSeries=scaler.transform(yeniArabaSeries.values.reshape(-1,5))"
   ]
  },
  {
   "cell_type": "markdown",
   "id": "exotic-charles",
   "metadata": {},
   "source": [
    "Tahmin edilen fiyat 63477 para birimi oluyor. Yeni veri serisi oluştururken çıkarttığımız eleman ise 65980 para birimiydi. Tahmin işlemi gerçekleştirilmiş oldu."
   ]
  },
  {
   "cell_type": "code",
   "execution_count": 77,
   "id": "proper-airport",
   "metadata": {},
   "outputs": [
    {
     "data": {
      "text/plain": [
       "array([[63477.742]], dtype=float32)"
      ]
     },
     "execution_count": 77,
     "metadata": {},
     "output_type": "execute_result"
    }
   ],
   "source": [
    "model.predict(yeniArabaSeries)"
   ]
  },
  {
   "cell_type": "code",
   "execution_count": null,
   "id": "immune-accounting",
   "metadata": {},
   "outputs": [],
   "source": []
  }
 ],
 "metadata": {
  "kernelspec": {
   "display_name": "Python 3",
   "language": "python",
   "name": "python3"
  },
  "language_info": {
   "codemirror_mode": {
    "name": "ipython",
    "version": 3
   },
   "file_extension": ".py",
   "mimetype": "text/x-python",
   "name": "python",
   "nbconvert_exporter": "python",
   "pygments_lexer": "ipython3",
   "version": "3.8.5"
  }
 },
 "nbformat": 4,
 "nbformat_minor": 5
}
